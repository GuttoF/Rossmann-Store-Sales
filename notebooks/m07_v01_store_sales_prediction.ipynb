{
 "cells": [
  {
   "cell_type": "markdown",
   "metadata": {
    "tags": []
   },
   "source": [
    "# 0.0 START"
   ]
  },
  {
   "cell_type": "markdown",
   "metadata": {
    "hidden": true,
    "tags": []
   },
   "source": [
    "## 0.1 Imports"
   ]
  },
  {
   "cell_type": "code",
   "execution_count": 1,
   "metadata": {
    "ExecuteTime": {
     "end_time": "2021-02-12T23:18:43.963368Z",
     "start_time": "2021-02-12T23:18:42.075874Z"
    },
    "execution": {
     "iopub.execute_input": "2021-03-28T16:41:05.552849Z",
     "iopub.status.busy": "2021-03-28T16:41:05.552515Z",
     "iopub.status.idle": "2021-03-28T16:41:06.542698Z",
     "shell.execute_reply": "2021-03-28T16:41:06.541809Z",
     "shell.execute_reply.started": "2021-03-28T16:41:05.552819Z"
    },
    "hidden": true,
    "tags": []
   },
   "outputs": [],
   "source": [
    "import math\n",
    "import random\n",
    "import pandas as pd\n",
    "import inflection\n",
    "import numpy as np\n",
    "import datetime\n",
    "import seaborn as sns\n",
    "import xgboost as xgb\n",
    "import warnings\n",
    "warnings.filterwarnings ('ignore')\n",
    "\n",
    "from scipy import stats as ss\n",
    "from tabulate import tabulate\n",
    "from boruta import BorutaPy\n",
    "\n",
    "import matplotlib\n",
    "from matplotlib import pyplot as plt\n",
    "%matplotlib inline\n",
    "\n",
    "from IPython.core.display import HTML\n",
    "from IPython.display import Image\n",
    "\n",
    "from sklearn.preprocessing import RobustScaler, MinMaxScaler, LabelEncoder\n",
    "from sklearn.ensemble import RandomForestRegressor\n",
    "from sklearn.linear_model  import LinearRegression, Lasso\n",
    "from sklearn.metrics import mean_absolute_error, mean_squared_error\n",
    "\n",
    "import pickle"
   ]
  },
  {
   "cell_type": "markdown",
   "metadata": {
    "execution": {
     "iopub.execute_input": "2020-12-14T17:25:07.853744Z",
     "iopub.status.busy": "2020-12-14T17:25:07.852953Z",
     "iopub.status.idle": "2020-12-14T17:25:07.860870Z",
     "shell.execute_reply": "2020-12-14T17:25:07.859079Z",
     "shell.execute_reply.started": "2020-12-14T17:25:07.853617Z"
    },
    "hidden": true,
    "tags": []
   },
   "source": [
    "## 0.2 Helper functions"
   ]
  },
  {
   "cell_type": "code",
   "execution_count": 2,
   "metadata": {
    "ExecuteTime": {
     "end_time": "2021-02-12T23:18:44.032675Z",
     "start_time": "2021-02-12T23:18:43.966763Z"
    },
    "execution": {
     "iopub.execute_input": "2021-03-28T16:41:06.544372Z",
     "iopub.status.busy": "2021-03-28T16:41:06.544015Z",
     "iopub.status.idle": "2021-03-28T16:41:06.594772Z",
     "shell.execute_reply": "2021-03-28T16:41:06.593753Z",
     "shell.execute_reply.started": "2021-03-28T16:41:06.544340Z"
    },
    "hidden": true,
    "tags": []
   },
   "outputs": [],
   "source": [
    "def cross_validation( x_training, kfold, model_name, model, verbose=False ):\n",
    "    mae_list = []\n",
    "    mape_list = []\n",
    "    rmse_list = []\n",
    "    for k in reversed( range( 1, kfold+1 ) ):\n",
    "        if verbose:\n",
    "            print( '\\nKFold Number: {}'.format( k ) )\n",
    "        # start and end date for validation \n",
    "        validation_start_date = x_training['date'].max() - datetime.timedelta( days=k*6*7)\n",
    "        validation_end_date = x_training['date'].max() - datetime.timedelta( days=(k-1)*6*7)\n",
    "\n",
    "        # filtering dataset\n",
    "        training = x_training[x_training['date'] < validation_start_date]\n",
    "        validation = x_training[(x_training['date'] >= validation_start_date) & (x_training['date'] <= validation_end_date)]\n",
    "\n",
    "        # training and validation dataset\n",
    "        # training\n",
    "        xtraining = training.drop( ['date', 'sales'], axis=1 ) \n",
    "        ytraining = training['sales']\n",
    "\n",
    "        # validation\n",
    "        xvalidation = validation.drop( ['date', 'sales'], axis=1 )\n",
    "        yvalidation = validation['sales']\n",
    "\n",
    "        # model\n",
    "        m = model.fit( xtraining, ytraining )\n",
    "\n",
    "        # prediction\n",
    "        yhat = m.predict( xvalidation )\n",
    "\n",
    "        # performance\n",
    "        m_result = ml_error( model_name, np.expm1( yvalidation ), np.expm1( yhat ) )\n",
    "\n",
    "        # store performance of each kfold iteration\n",
    "        mae_list.append(  m_result['MAE'] )\n",
    "        mape_list.append( m_result['MAPE'] )\n",
    "        rmse_list.append( m_result['RMSE'] )\n",
    "\n",
    "    return pd.DataFrame( {'Model Name': model_name,\n",
    "                          'MAE CV': np.round( np.mean( mae_list ), 2 ).astype( str ) + ' +/- ' + np.round( np.std( mae_list ), 2 ).astype( str ),\n",
    "                          'MAPE CV': np.round( np.mean( mape_list ), 2 ).astype( str ) + ' +/- ' + np.round( np.std( mape_list ), 2 ).astype( str ),\n",
    "                          'RMSE CV': np.round( np.mean( rmse_list ), 2 ).astype( str ) + ' +/- ' + np.round( np.std( rmse_list ), 2 ).astype( str ) }, index=[0] )\n",
    "\n",
    "\n",
    "def cramers_v(x, y):\n",
    "    cm = pd.crosstab(x, y).as_matrix()\n",
    "    n = cm.sum()\n",
    "    r, k = cm.shape\n",
    "\n",
    "    chi2 = ss.chi2_contingency(cm)[0]\n",
    "    chi2corr = max(0, chi2 - (k-1)*(r-1)/(n-1))\n",
    "\n",
    "    kcorr = k - (k-1)**2/(n-1)\n",
    "    rcorr = r - (r-1)**2/(n-1)\n",
    "\n",
    "    return np.sqrt((chi2corr/n) / (min(kcorr-1, rcorr-1)))\n",
    "\n",
    "def mean_percentage_error( y, yhat ):\n",
    "    return np.mean( ( y - yhat ) / y )\n",
    "\n",
    "def mean_absolute_percentage_error(y, yhat):\n",
    "     return np.mean( np.abs( ( y - yhat ) / y ) )\n",
    "\n",
    "def ml_error(model_name, y, yhat):\n",
    "    mae = mean_absolute_error(y,yhat)\n",
    "    mape = mean_absolute_percentage_error(y, yhat)\n",
    "    rmse = np.sqrt(mean_squared_error(y, yhat))\n",
    "\n",
    "    return pd.DataFrame({'Model name': model_name,\n",
    "                         'MAE': mae,\n",
    "                         'MAPE': mape,\n",
    "                         'RMSE': rmse}, index=[0])\n",
    "    \n",
    "    \n",
    "def jupyter_settings():\n",
    "    %matplotlib inline\n",
    "    %pylab inline\n",
    "\n",
    "    plt.style.use('dark')\n",
    "    plt.rcParams['figure.figsize'] = [25, 12]\n",
    "    plt.rcParams['font.size'] = 24\n",
    "\n",
    "    display(HTML('<style>.container { width:100% !important; }</style>'))\n",
    "    pd.options.display.max_columns = None\n",
    "    pd.options.display.max_rows = None\n",
    "    pd.set_option('display.expand_frame_repr', False)\n",
    "\n",
    "    sns.set()"
   ]
  },
  {
   "cell_type": "markdown",
   "metadata": {
    "execution": {
     "iopub.execute_input": "2020-12-14T17:25:22.033819Z",
     "iopub.status.busy": "2020-12-14T17:25:22.033443Z",
     "iopub.status.idle": "2020-12-14T17:25:22.037583Z",
     "shell.execute_reply": "2020-12-14T17:25:22.036572Z",
     "shell.execute_reply.started": "2020-12-14T17:25:22.033765Z"
    },
    "heading_collapsed": "true",
    "hidden": true,
    "tags": []
   },
   "source": [
    "## 0.3 Loading data"
   ]
  },
  {
   "cell_type": "code",
   "execution_count": 3,
   "metadata": {
    "ExecuteTime": {
     "end_time": "2021-02-12T23:18:45.214327Z",
     "start_time": "2021-02-12T23:18:44.034999Z"
    },
    "execution": {
     "iopub.execute_input": "2021-03-28T16:41:06.597233Z",
     "iopub.status.busy": "2021-03-28T16:41:06.596760Z",
     "iopub.status.idle": "2021-03-28T16:41:07.595993Z",
     "shell.execute_reply": "2021-03-28T16:41:07.595233Z",
     "shell.execute_reply.started": "2021-03-28T16:41:06.597196Z"
    },
    "hidden": true,
    "hideCode": false,
    "hideOutput": false
   },
   "outputs": [],
   "source": [
    "# df = dataframe\n",
    "# raw = without any modificantion\n",
    "# read_csv is a function used with pandas library\n",
    "df_sales_raw = pd.read_csv('../data/train.csv', low_memory=False)\n",
    "df_store_raw = pd.read_csv('../data/store.csv', low_memory=False)\n",
    "\n",
    "# merge\n",
    "df_raw = pd.merge(df_sales_raw, df_store_raw, how='left', on='Store')"
   ]
  },
  {
   "cell_type": "markdown",
   "metadata": {
    "heading_collapsed": "true",
    "hidden": true,
    "tags": []
   },
   "source": [
    "${appName}: ${sessionName}## 0.4 Colors"
   ]
  },
  {
   "cell_type": "code",
   "execution_count": 4,
   "metadata": {
    "ExecuteTime": {
     "end_time": "2021-02-12T23:18:45.219044Z",
     "start_time": "2021-02-12T23:18:45.215817Z"
    },
    "execution": {
     "iopub.execute_input": "2021-03-28T16:41:07.597377Z",
     "iopub.status.busy": "2021-03-28T16:41:07.597122Z",
     "iopub.status.idle": "2021-03-28T16:41:07.601609Z",
     "shell.execute_reply": "2021-03-28T16:41:07.600744Z",
     "shell.execute_reply.started": "2021-03-28T16:41:07.597352Z"
    },
    "hidden": true
   },
   "outputs": [],
   "source": [
    "# colors used in the project\n",
    "\n",
    "red = '#F15854'\n",
    "blue = '#5DA5DA'\n",
    "orange = '#FAA43A'\n",
    "green = '#60BD68'\n",
    "pink = '#F17CB0'\n",
    "brown = '#B2912F'\n",
    "purple = '#B276B2'\n",
    "yellow = '#DECF3F'\n",
    "gray = '#4D4D4D'\n",
    "\n",
    "# plot size\n",
    "figsize = (20, 15)"
   ]
  },
  {
   "cell_type": "markdown",
   "metadata": {
    "execution": {
     "iopub.execute_input": "2020-12-14T17:24:21.703156Z",
     "iopub.status.busy": "2020-12-14T17:24:21.702347Z",
     "iopub.status.idle": "2020-12-14T17:24:21.714449Z",
     "shell.execute_reply": "2020-12-14T17:24:21.712413Z",
     "shell.execute_reply.started": "2020-12-14T17:24:21.703027Z"
    },
    "heading_collapsed": "true",
    "tags": []
   },
   "source": [
    "# 1.0 DATA DESCRIPTION"
   ]
  },
  {
   "cell_type": "markdown",
   "metadata": {
    "heading_collapsed": "true",
    "hidden": true,
    "tags": []
   },
   "source": [
    "## 1.0.1 Dataset copy"
   ]
  },
  {
   "cell_type": "code",
   "execution_count": 5,
   "metadata": {
    "ExecuteTime": {
     "end_time": "2021-02-12T23:18:45.478562Z",
     "start_time": "2021-02-12T23:18:45.220670Z"
    },
    "execution": {
     "iopub.execute_input": "2021-03-28T16:41:07.603072Z",
     "iopub.status.busy": "2021-03-28T16:41:07.602764Z",
     "iopub.status.idle": "2021-03-28T16:41:07.665089Z",
     "shell.execute_reply": "2021-03-28T16:41:07.664141Z",
     "shell.execute_reply.started": "2021-03-28T16:41:07.603044Z"
    },
    "hidden": true
   },
   "outputs": [],
   "source": [
    "# always create a copy of the df\n",
    "df1 = df_raw.copy()"
   ]
  },
  {
   "cell_type": "markdown",
   "metadata": {
    "heading_collapsed": "true",
    "hidden": true,
    "tags": []
   },
   "source": [
    "## 1.1 Data fields"
   ]
  },
  {
   "cell_type": "markdown",
   "metadata": {
    "ExecuteTime": {
     "end_time": "2020-12-21T19:27:22.619863Z",
     "start_time": "2020-12-21T19:27:22.616584Z"
    },
    "hidden": true
   },
   "source": [
    "*Id*: an Id that represents a (Store, Date) duple within the test set\n",
    "\n",
    "*Store*: a unique Id for each store\n",
    "\n",
    "*Sales*: the turnover for any given day (this is what you are predicting)\n",
    "\n",
    "*Customers*: the number of customers on a given day\n",
    "\n",
    "*Open*: an indicator for whether the store was open: 0 = closed, 1 = open\n",
    "\n",
    "*State Holiday*: indicates a state holiday. Normally all stores, with few exceptions, are closed on state holidays. Note that all schools are closed on public holidays and weekends. a = public holiday, b = Easter holiday, c = Christmas, 0 = None\n",
    "\n",
    "*School Holiday*: indicates if the (Store, Date) was affected by the closure of public schools\n",
    "\n",
    "*Store Type*: differentiates between 4 different store models: a, b, c, d\n",
    "\n",
    "*Assortment*: describes an assortment level: a = basic, b = extra, c = extended\n",
    "\n",
    "*Competition Distance*: distance in meters to the nearest competitor store\n",
    "\n",
    "*Competition Open Since Month/Year*: gives the approximate year and month of the time the nearest competitor was opened\n",
    "\n",
    "*Promo*: indicates whether a store is running a promo on that day\n",
    "\n",
    "*Promo 2*: Promo2 is a continuing and consecutive promotion for some stores: 0 = store is not participating, 1 = store is participating\n",
    "\n",
    "*Promo 2 Since Year/Week*: describes the year and calendar week when the store started participating in Promo2\n",
    "\n",
    "*Promo Interval*: describes the consecutive intervals Promo2 is started, naming the months the promotion is started anew. E.g. \"Feb,May,Aug,Nov\" means each round starts in February, May, August, November of any given year for that store"
   ]
  },
  {
   "cell_type": "markdown",
   "metadata": {
    "hidden": true,
    "tags": []
   },
   "source": [
    "## 1.2 Rename columns"
   ]
  },
  {
   "cell_type": "code",
   "execution_count": 6,
   "metadata": {
    "ExecuteTime": {
     "end_time": "2021-02-12T23:18:45.486071Z",
     "start_time": "2021-02-12T23:18:45.481642Z"
    },
    "execution": {
     "iopub.execute_input": "2021-03-28T16:41:07.666249Z",
     "iopub.status.busy": "2021-03-28T16:41:07.665989Z",
     "iopub.status.idle": "2021-03-28T16:41:07.672052Z",
     "shell.execute_reply": "2021-03-28T16:41:07.671255Z",
     "shell.execute_reply.started": "2021-03-28T16:41:07.666222Z"
    },
    "hidden": true
   },
   "outputs": [],
   "source": [
    "cols_old = ['Store', 'DayOfWeek', 'Date', 'Sales', 'Customers', 'Open', 'Promo', 'StateHoliday', 'SchoolHoliday', 'StoreType',\n",
    "            'Assortment', 'CompetitionDistance', 'CompetitionOpenSinceMonth', 'CompetitionOpenSinceYear', 'Promo2', 'Promo2SinceWeek',\n",
    "            'Promo2SinceYear', 'PromoInterval']\n",
    "\n",
    "\n",
    "def snakecase(x):\n",
    "    return inflection.underscore(x)\n",
    "\n",
    "\n",
    "# using the snakecase type\n",
    "cols_new = list(map(snakecase, cols_old))\n",
    "df1.columns = cols_new"
   ]
  },
  {
   "cell_type": "markdown",
   "metadata": {
    "heading_collapsed": "true",
    "hidden": true,
    "tags": []
   },
   "source": [
    "## 1.3 Data dimensions"
   ]
  },
  {
   "cell_type": "code",
   "execution_count": 7,
   "metadata": {
    "ExecuteTime": {
     "end_time": "2021-02-12T23:18:45.493619Z",
     "start_time": "2021-02-12T23:18:45.488204Z"
    },
    "execution": {
     "iopub.execute_input": "2021-03-28T16:41:07.673272Z",
     "iopub.status.busy": "2021-03-28T16:41:07.673000Z",
     "iopub.status.idle": "2021-03-28T16:41:07.685633Z",
     "shell.execute_reply": "2021-03-28T16:41:07.684803Z",
     "shell.execute_reply.started": "2021-03-28T16:41:07.673243Z"
    },
    "hidden": true
   },
   "outputs": [
    {
     "name": "stdout",
     "output_type": "stream",
     "text": [
      "Number of rows: 1017209 \n",
      "Number of columns: 18\n"
     ]
    }
   ],
   "source": [
    "print(f'Number of rows: {df1.shape[0]} \\nNumber of columns: {df1.shape[1]}')"
   ]
  },
  {
   "cell_type": "markdown",
   "metadata": {
    "heading_collapsed": "true",
    "hidden": true,
    "tags": []
   },
   "source": [
    "## 1.4 Data types"
   ]
  },
  {
   "cell_type": "code",
   "execution_count": 8,
   "metadata": {
    "ExecuteTime": {
     "end_time": "2021-02-12T23:18:45.621797Z",
     "start_time": "2021-02-12T23:18:45.495274Z"
    },
    "execution": {
     "iopub.execute_input": "2021-03-28T16:41:07.688262Z",
     "iopub.status.busy": "2021-03-28T16:41:07.687942Z",
     "iopub.status.idle": "2021-03-28T16:41:07.844014Z",
     "shell.execute_reply": "2021-03-28T16:41:07.843207Z",
     "shell.execute_reply.started": "2021-03-28T16:41:07.688232Z"
    },
    "hidden": true
   },
   "outputs": [
    {
     "data": {
      "text/html": [
       "<div>\n",
       "<style scoped>\n",
       "    .dataframe tbody tr th:only-of-type {\n",
       "        vertical-align: middle;\n",
       "    }\n",
       "\n",
       "    .dataframe tbody tr th {\n",
       "        vertical-align: top;\n",
       "    }\n",
       "\n",
       "    .dataframe thead th {\n",
       "        text-align: right;\n",
       "    }\n",
       "</style>\n",
       "<table border=\"1\" class=\"dataframe\">\n",
       "  <thead>\n",
       "    <tr style=\"text-align: right;\">\n",
       "      <th></th>\n",
       "      <th>index</th>\n",
       "      <th>0</th>\n",
       "    </tr>\n",
       "  </thead>\n",
       "  <tbody>\n",
       "    <tr>\n",
       "      <th>0</th>\n",
       "      <td>store</td>\n",
       "      <td>int64</td>\n",
       "    </tr>\n",
       "    <tr>\n",
       "      <th>1</th>\n",
       "      <td>day_of_week</td>\n",
       "      <td>int64</td>\n",
       "    </tr>\n",
       "    <tr>\n",
       "      <th>2</th>\n",
       "      <td>date</td>\n",
       "      <td>datetime64[ns]</td>\n",
       "    </tr>\n",
       "    <tr>\n",
       "      <th>3</th>\n",
       "      <td>sales</td>\n",
       "      <td>int64</td>\n",
       "    </tr>\n",
       "    <tr>\n",
       "      <th>4</th>\n",
       "      <td>customers</td>\n",
       "      <td>int64</td>\n",
       "    </tr>\n",
       "    <tr>\n",
       "      <th>5</th>\n",
       "      <td>open</td>\n",
       "      <td>int64</td>\n",
       "    </tr>\n",
       "    <tr>\n",
       "      <th>6</th>\n",
       "      <td>promo</td>\n",
       "      <td>int64</td>\n",
       "    </tr>\n",
       "    <tr>\n",
       "      <th>7</th>\n",
       "      <td>state_holiday</td>\n",
       "      <td>object</td>\n",
       "    </tr>\n",
       "    <tr>\n",
       "      <th>8</th>\n",
       "      <td>school_holiday</td>\n",
       "      <td>int64</td>\n",
       "    </tr>\n",
       "    <tr>\n",
       "      <th>9</th>\n",
       "      <td>store_type</td>\n",
       "      <td>object</td>\n",
       "    </tr>\n",
       "    <tr>\n",
       "      <th>10</th>\n",
       "      <td>assortment</td>\n",
       "      <td>object</td>\n",
       "    </tr>\n",
       "    <tr>\n",
       "      <th>11</th>\n",
       "      <td>competition_distance</td>\n",
       "      <td>float64</td>\n",
       "    </tr>\n",
       "    <tr>\n",
       "      <th>12</th>\n",
       "      <td>competition_open_since_month</td>\n",
       "      <td>float64</td>\n",
       "    </tr>\n",
       "    <tr>\n",
       "      <th>13</th>\n",
       "      <td>competition_open_since_year</td>\n",
       "      <td>float64</td>\n",
       "    </tr>\n",
       "    <tr>\n",
       "      <th>14</th>\n",
       "      <td>promo2</td>\n",
       "      <td>int64</td>\n",
       "    </tr>\n",
       "    <tr>\n",
       "      <th>15</th>\n",
       "      <td>promo2_since_week</td>\n",
       "      <td>float64</td>\n",
       "    </tr>\n",
       "    <tr>\n",
       "      <th>16</th>\n",
       "      <td>promo2_since_year</td>\n",
       "      <td>float64</td>\n",
       "    </tr>\n",
       "    <tr>\n",
       "      <th>17</th>\n",
       "      <td>promo_interval</td>\n",
       "      <td>object</td>\n",
       "    </tr>\n",
       "  </tbody>\n",
       "</table>\n",
       "</div>"
      ],
      "text/plain": [
       "                           index               0\n",
       "0                          store           int64\n",
       "1                    day_of_week           int64\n",
       "2                           date  datetime64[ns]\n",
       "3                          sales           int64\n",
       "4                      customers           int64\n",
       "5                           open           int64\n",
       "6                          promo           int64\n",
       "7                  state_holiday          object\n",
       "8                 school_holiday           int64\n",
       "9                     store_type          object\n",
       "10                    assortment          object\n",
       "11          competition_distance         float64\n",
       "12  competition_open_since_month         float64\n",
       "13   competition_open_since_year         float64\n",
       "14                        promo2           int64\n",
       "15             promo2_since_week         float64\n",
       "16             promo2_since_year         float64\n",
       "17                promo_interval          object"
      ]
     },
     "execution_count": 8,
     "metadata": {},
     "output_type": "execute_result"
    }
   ],
   "source": [
    "# changing the date type from object to datetime\n",
    "df1['date'] = pd.to_datetime(df1['date'])\n",
    "\n",
    "data_types = pd.DataFrame(df1.dtypes).reset_index()\n",
    "data_types"
   ]
  },
  {
   "cell_type": "markdown",
   "metadata": {
    "heading_collapsed": "true",
    "hidden": true,
    "tags": []
   },
   "source": [
    "## 1.5 Check NA"
   ]
  },
  {
   "cell_type": "code",
   "execution_count": 9,
   "metadata": {
    "ExecuteTime": {
     "end_time": "2021-02-12T23:18:45.819705Z",
     "start_time": "2021-02-12T23:18:45.623390Z"
    },
    "execution": {
     "iopub.execute_input": "2021-03-28T16:41:07.845630Z",
     "iopub.status.busy": "2021-03-28T16:41:07.845352Z",
     "iopub.status.idle": "2021-03-28T16:41:08.107647Z",
     "shell.execute_reply": "2021-03-28T16:41:08.105556Z",
     "shell.execute_reply.started": "2021-03-28T16:41:07.845602Z"
    },
    "hidden": true
   },
   "outputs": [
    {
     "data": {
      "text/html": [
       "<div>\n",
       "<style scoped>\n",
       "    .dataframe tbody tr th:only-of-type {\n",
       "        vertical-align: middle;\n",
       "    }\n",
       "\n",
       "    .dataframe tbody tr th {\n",
       "        vertical-align: top;\n",
       "    }\n",
       "\n",
       "    .dataframe thead th {\n",
       "        text-align: right;\n",
       "    }\n",
       "</style>\n",
       "<table border=\"1\" class=\"dataframe\">\n",
       "  <thead>\n",
       "    <tr style=\"text-align: right;\">\n",
       "      <th></th>\n",
       "      <th>index</th>\n",
       "      <th>0</th>\n",
       "    </tr>\n",
       "  </thead>\n",
       "  <tbody>\n",
       "    <tr>\n",
       "      <th>0</th>\n",
       "      <td>store</td>\n",
       "      <td>0</td>\n",
       "    </tr>\n",
       "    <tr>\n",
       "      <th>1</th>\n",
       "      <td>day_of_week</td>\n",
       "      <td>0</td>\n",
       "    </tr>\n",
       "    <tr>\n",
       "      <th>2</th>\n",
       "      <td>date</td>\n",
       "      <td>0</td>\n",
       "    </tr>\n",
       "    <tr>\n",
       "      <th>3</th>\n",
       "      <td>sales</td>\n",
       "      <td>0</td>\n",
       "    </tr>\n",
       "    <tr>\n",
       "      <th>4</th>\n",
       "      <td>customers</td>\n",
       "      <td>0</td>\n",
       "    </tr>\n",
       "    <tr>\n",
       "      <th>5</th>\n",
       "      <td>open</td>\n",
       "      <td>0</td>\n",
       "    </tr>\n",
       "    <tr>\n",
       "      <th>6</th>\n",
       "      <td>promo</td>\n",
       "      <td>0</td>\n",
       "    </tr>\n",
       "    <tr>\n",
       "      <th>7</th>\n",
       "      <td>state_holiday</td>\n",
       "      <td>0</td>\n",
       "    </tr>\n",
       "    <tr>\n",
       "      <th>8</th>\n",
       "      <td>school_holiday</td>\n",
       "      <td>0</td>\n",
       "    </tr>\n",
       "    <tr>\n",
       "      <th>9</th>\n",
       "      <td>store_type</td>\n",
       "      <td>0</td>\n",
       "    </tr>\n",
       "    <tr>\n",
       "      <th>10</th>\n",
       "      <td>assortment</td>\n",
       "      <td>0</td>\n",
       "    </tr>\n",
       "    <tr>\n",
       "      <th>11</th>\n",
       "      <td>competition_distance</td>\n",
       "      <td>2642</td>\n",
       "    </tr>\n",
       "    <tr>\n",
       "      <th>12</th>\n",
       "      <td>competition_open_since_month</td>\n",
       "      <td>323348</td>\n",
       "    </tr>\n",
       "    <tr>\n",
       "      <th>13</th>\n",
       "      <td>competition_open_since_year</td>\n",
       "      <td>323348</td>\n",
       "    </tr>\n",
       "    <tr>\n",
       "      <th>14</th>\n",
       "      <td>promo2</td>\n",
       "      <td>0</td>\n",
       "    </tr>\n",
       "    <tr>\n",
       "      <th>15</th>\n",
       "      <td>promo2_since_week</td>\n",
       "      <td>508031</td>\n",
       "    </tr>\n",
       "    <tr>\n",
       "      <th>16</th>\n",
       "      <td>promo2_since_year</td>\n",
       "      <td>508031</td>\n",
       "    </tr>\n",
       "    <tr>\n",
       "      <th>17</th>\n",
       "      <td>promo_interval</td>\n",
       "      <td>508031</td>\n",
       "    </tr>\n",
       "  </tbody>\n",
       "</table>\n",
       "</div>"
      ],
      "text/plain": [
       "                           index       0\n",
       "0                          store       0\n",
       "1                    day_of_week       0\n",
       "2                           date       0\n",
       "3                          sales       0\n",
       "4                      customers       0\n",
       "5                           open       0\n",
       "6                          promo       0\n",
       "7                  state_holiday       0\n",
       "8                 school_holiday       0\n",
       "9                     store_type       0\n",
       "10                    assortment       0\n",
       "11          competition_distance    2642\n",
       "12  competition_open_since_month  323348\n",
       "13   competition_open_since_year  323348\n",
       "14                        promo2       0\n",
       "15             promo2_since_week  508031\n",
       "16             promo2_since_year  508031\n",
       "17                promo_interval  508031"
      ]
     },
     "execution_count": 9,
     "metadata": {},
     "output_type": "execute_result"
    }
   ],
   "source": [
    "na_test = pd.DataFrame(df1.isna().sum()).reset_index()\n",
    "na_test"
   ]
  },
  {
   "cell_type": "code",
   "execution_count": 10,
   "metadata": {
    "ExecuteTime": {
     "end_time": "2021-02-12T23:18:45.823296Z",
     "start_time": "2021-02-12T23:18:45.821145Z"
    },
    "execution": {
     "iopub.execute_input": "2021-03-28T16:41:08.110255Z",
     "iopub.status.busy": "2021-03-28T16:41:08.109655Z",
     "iopub.status.idle": "2021-03-28T16:41:08.116345Z",
     "shell.execute_reply": "2021-03-28T16:41:08.113610Z",
     "shell.execute_reply.started": "2021-03-28T16:41:08.110196Z"
    },
    "hidden": true
   },
   "outputs": [],
   "source": [
    "# Need to fix the NA's in the columns competition_distance, competition_open_since_month, \n",
    "# competition_open_since_year, promo2_since_week, promo2_since_year and promo_interval"
   ]
  },
  {
   "cell_type": "markdown",
   "metadata": {
    "heading_collapsed": "true",
    "hidden": true,
    "tags": []
   },
   "source": [
    "## 1.6 Fillout NA"
   ]
  },
  {
   "cell_type": "code",
   "execution_count": 11,
   "metadata": {
    "ExecuteTime": {
     "end_time": "2021-02-12T23:18:45.835237Z",
     "start_time": "2021-02-12T23:18:45.824881Z"
    },
    "execution": {
     "iopub.execute_input": "2021-03-28T16:41:08.120112Z",
     "iopub.status.busy": "2021-03-28T16:41:08.119253Z",
     "iopub.status.idle": "2021-03-28T16:41:08.136045Z",
     "shell.execute_reply": "2021-03-28T16:41:08.134472Z",
     "shell.execute_reply.started": "2021-03-28T16:41:08.120043Z"
    },
    "hidden": true
   },
   "outputs": [
    {
     "name": "stdout",
     "output_type": "stream",
     "text": [
      "The max value in the column competition_distance is 75860.0!\n"
     ]
    }
   ],
   "source": [
    "max_value_competition_distance = df1['competition_distance'].max()\n",
    "print(f'The max value in the column competition_distance is {max_value_competition_distance}!')"
   ]
  },
  {
   "cell_type": "code",
   "execution_count": 12,
   "metadata": {
    "ExecuteTime": {
     "end_time": "2021-02-12T23:20:40.676439Z",
     "start_time": "2021-02-12T23:18:45.836903Z"
    },
    "execution": {
     "iopub.execute_input": "2021-03-28T16:41:08.140231Z",
     "iopub.status.busy": "2021-03-28T16:41:08.139517Z",
     "iopub.status.idle": "2021-03-28T16:41:22.403699Z",
     "shell.execute_reply": "2021-03-28T16:41:22.399803Z",
     "shell.execute_reply.started": "2021-03-28T16:41:08.140162Z"
    },
    "hidden": true
   },
   "outputs": [
    {
     "ename": "KeyboardInterrupt",
     "evalue": "",
     "output_type": "error",
     "traceback": [
      "\u001b[0;31m--------------------------------------------------------------------------\u001b[0m",
      "\u001b[0;31mKeyboardInterrupt\u001b[0m                        Traceback (most recent call last)",
      "\u001b[0;32m<ipython-input-12-c1907ad77b53>\u001b[0m in \u001b[0;36m<module>\u001b[0;34m\u001b[0m\n\u001b[1;32m      7\u001b[0m \u001b[0;31m# competition_open_since_month\u001b[0m\u001b[0;34m\u001b[0m\u001b[0;34m\u001b[0m\u001b[0;34m\u001b[0m\u001b[0m\n\u001b[1;32m      8\u001b[0m \u001b[0;31m# change the NaN elements to date\u001b[0m\u001b[0;34m\u001b[0m\u001b[0;34m\u001b[0m\u001b[0;34m\u001b[0m\u001b[0m\n\u001b[0;32m----> 9\u001b[0;31m df1['competition_open_since_month'] = df1.apply(lambda x: x['date'].month\n\u001b[0m\u001b[1;32m     10\u001b[0m                                                 \u001b[0;32mif\u001b[0m \u001b[0mmath\u001b[0m\u001b[0;34m.\u001b[0m\u001b[0misnan\u001b[0m\u001b[0;34m(\u001b[0m\u001b[0mx\u001b[0m\u001b[0;34m[\u001b[0m\u001b[0;34m'competition_open_since_month'\u001b[0m\u001b[0;34m]\u001b[0m\u001b[0;34m)\u001b[0m\u001b[0;34m\u001b[0m\u001b[0;34m\u001b[0m\u001b[0m\n\u001b[1;32m     11\u001b[0m                                                 else x['competition_open_since_month'], axis=1)\n",
      "\u001b[0;32m~/.pyenv/versions/3.8.0/envs/DataScienceEmProducao/lib/python3.8/site-packages/pandas/core/frame.py\u001b[0m in \u001b[0;36mapply\u001b[0;34m(self, func, axis, raw, result_type, args, **kwds)\u001b[0m\n\u001b[1;32m   7766\u001b[0m             \u001b[0mkwds\u001b[0m\u001b[0;34m=\u001b[0m\u001b[0mkwds\u001b[0m\u001b[0;34m,\u001b[0m\u001b[0;34m\u001b[0m\u001b[0;34m\u001b[0m\u001b[0m\n\u001b[1;32m   7767\u001b[0m         )\n\u001b[0;32m-> 7768\u001b[0;31m         \u001b[0;32mreturn\u001b[0m \u001b[0mop\u001b[0m\u001b[0;34m.\u001b[0m\u001b[0mget_result\u001b[0m\u001b[0;34m(\u001b[0m\u001b[0;34m)\u001b[0m\u001b[0;34m\u001b[0m\u001b[0;34m\u001b[0m\u001b[0m\n\u001b[0m\u001b[1;32m   7769\u001b[0m \u001b[0;34m\u001b[0m\u001b[0m\n\u001b[1;32m   7770\u001b[0m     \u001b[0;32mdef\u001b[0m \u001b[0mapplymap\u001b[0m\u001b[0;34m(\u001b[0m\u001b[0mself\u001b[0m\u001b[0;34m,\u001b[0m \u001b[0mfunc\u001b[0m\u001b[0;34m,\u001b[0m \u001b[0mna_action\u001b[0m\u001b[0;34m:\u001b[0m \u001b[0mOptional\u001b[0m\u001b[0;34m[\u001b[0m\u001b[0mstr\u001b[0m\u001b[0;34m]\u001b[0m \u001b[0;34m=\u001b[0m \u001b[0;32mNone\u001b[0m\u001b[0;34m)\u001b[0m \u001b[0;34m->\u001b[0m \u001b[0mDataFrame\u001b[0m\u001b[0;34m:\u001b[0m\u001b[0;34m\u001b[0m\u001b[0;34m\u001b[0m\u001b[0m\n",
      "\u001b[0;32m~/.pyenv/versions/3.8.0/envs/DataScienceEmProducao/lib/python3.8/site-packages/pandas/core/apply.py\u001b[0m in \u001b[0;36mget_result\u001b[0;34m(self)\u001b[0m\n\u001b[1;32m    183\u001b[0m             \u001b[0;32mreturn\u001b[0m \u001b[0mself\u001b[0m\u001b[0;34m.\u001b[0m\u001b[0mapply_raw\u001b[0m\u001b[0;34m(\u001b[0m\u001b[0;34m)\u001b[0m\u001b[0;34m\u001b[0m\u001b[0;34m\u001b[0m\u001b[0m\n\u001b[1;32m    184\u001b[0m \u001b[0;34m\u001b[0m\u001b[0m\n\u001b[0;32m--> 185\u001b[0;31m         \u001b[0;32mreturn\u001b[0m \u001b[0mself\u001b[0m\u001b[0;34m.\u001b[0m\u001b[0mapply_standard\u001b[0m\u001b[0;34m(\u001b[0m\u001b[0;34m)\u001b[0m\u001b[0;34m\u001b[0m\u001b[0;34m\u001b[0m\u001b[0m\n\u001b[0m\u001b[1;32m    186\u001b[0m \u001b[0;34m\u001b[0m\u001b[0m\n\u001b[1;32m    187\u001b[0m     \u001b[0;32mdef\u001b[0m \u001b[0mapply_empty_result\u001b[0m\u001b[0;34m(\u001b[0m\u001b[0mself\u001b[0m\u001b[0;34m)\u001b[0m\u001b[0;34m:\u001b[0m\u001b[0;34m\u001b[0m\u001b[0;34m\u001b[0m\u001b[0m\n",
      "\u001b[0;32m~/.pyenv/versions/3.8.0/envs/DataScienceEmProducao/lib/python3.8/site-packages/pandas/core/apply.py\u001b[0m in \u001b[0;36mapply_standard\u001b[0;34m(self)\u001b[0m\n\u001b[1;32m    274\u001b[0m \u001b[0;34m\u001b[0m\u001b[0m\n\u001b[1;32m    275\u001b[0m     \u001b[0;32mdef\u001b[0m \u001b[0mapply_standard\u001b[0m\u001b[0;34m(\u001b[0m\u001b[0mself\u001b[0m\u001b[0;34m)\u001b[0m\u001b[0;34m:\u001b[0m\u001b[0;34m\u001b[0m\u001b[0;34m\u001b[0m\u001b[0m\n\u001b[0;32m--> 276\u001b[0;31m         \u001b[0mresults\u001b[0m\u001b[0;34m,\u001b[0m \u001b[0mres_index\u001b[0m \u001b[0;34m=\u001b[0m \u001b[0mself\u001b[0m\u001b[0;34m.\u001b[0m\u001b[0mapply_series_generator\u001b[0m\u001b[0;34m(\u001b[0m\u001b[0;34m)\u001b[0m\u001b[0;34m\u001b[0m\u001b[0;34m\u001b[0m\u001b[0m\n\u001b[0m\u001b[1;32m    277\u001b[0m \u001b[0;34m\u001b[0m\u001b[0m\n\u001b[1;32m    278\u001b[0m         \u001b[0;31m# wrap results\u001b[0m\u001b[0;34m\u001b[0m\u001b[0;34m\u001b[0m\u001b[0;34m\u001b[0m\u001b[0m\n",
      "\u001b[0;32m~/.pyenv/versions/3.8.0/envs/DataScienceEmProducao/lib/python3.8/site-packages/pandas/core/apply.py\u001b[0m in \u001b[0;36mapply_series_generator\u001b[0;34m(self)\u001b[0m\n\u001b[1;32m    288\u001b[0m             \u001b[0;32mfor\u001b[0m \u001b[0mi\u001b[0m\u001b[0;34m,\u001b[0m \u001b[0mv\u001b[0m \u001b[0;32min\u001b[0m \u001b[0menumerate\u001b[0m\u001b[0;34m(\u001b[0m\u001b[0mseries_gen\u001b[0m\u001b[0;34m)\u001b[0m\u001b[0;34m:\u001b[0m\u001b[0;34m\u001b[0m\u001b[0;34m\u001b[0m\u001b[0m\n\u001b[1;32m    289\u001b[0m                 \u001b[0;31m# ignore SettingWithCopy here in case the user mutates\u001b[0m\u001b[0;34m\u001b[0m\u001b[0;34m\u001b[0m\u001b[0;34m\u001b[0m\u001b[0m\n\u001b[0;32m--> 290\u001b[0;31m                 \u001b[0mresults\u001b[0m\u001b[0;34m[\u001b[0m\u001b[0mi\u001b[0m\u001b[0;34m]\u001b[0m \u001b[0;34m=\u001b[0m \u001b[0mself\u001b[0m\u001b[0;34m.\u001b[0m\u001b[0mf\u001b[0m\u001b[0;34m(\u001b[0m\u001b[0mv\u001b[0m\u001b[0;34m)\u001b[0m\u001b[0;34m\u001b[0m\u001b[0;34m\u001b[0m\u001b[0m\n\u001b[0m\u001b[1;32m    291\u001b[0m                 \u001b[0;32mif\u001b[0m \u001b[0misinstance\u001b[0m\u001b[0;34m(\u001b[0m\u001b[0mresults\u001b[0m\u001b[0;34m[\u001b[0m\u001b[0mi\u001b[0m\u001b[0;34m]\u001b[0m\u001b[0;34m,\u001b[0m \u001b[0mABCSeries\u001b[0m\u001b[0;34m)\u001b[0m\u001b[0;34m:\u001b[0m\u001b[0;34m\u001b[0m\u001b[0;34m\u001b[0m\u001b[0m\n\u001b[1;32m    292\u001b[0m                     \u001b[0;31m# If we have a view on v, we need to make a copy because\u001b[0m\u001b[0;34m\u001b[0m\u001b[0;34m\u001b[0m\u001b[0;34m\u001b[0m\u001b[0m\n",
      "\u001b[0;32m<ipython-input-12-c1907ad77b53>\u001b[0m in \u001b[0;36m<lambda>\u001b[0;34m(x)\u001b[0m\n\u001b[1;32m      9\u001b[0m df1['competition_open_since_month'] = df1.apply(lambda x: x['date'].month\n\u001b[1;32m     10\u001b[0m                                                 \u001b[0;32mif\u001b[0m \u001b[0mmath\u001b[0m\u001b[0;34m.\u001b[0m\u001b[0misnan\u001b[0m\u001b[0;34m(\u001b[0m\u001b[0mx\u001b[0m\u001b[0;34m[\u001b[0m\u001b[0;34m'competition_open_since_month'\u001b[0m\u001b[0;34m]\u001b[0m\u001b[0;34m)\u001b[0m\u001b[0;34m\u001b[0m\u001b[0;34m\u001b[0m\u001b[0m\n\u001b[0;32m---> 11\u001b[0;31m                                                 else x['competition_open_since_month'], axis=1)\n\u001b[0m\u001b[1;32m     12\u001b[0m \u001b[0;34m\u001b[0m\u001b[0m\n\u001b[1;32m     13\u001b[0m \u001b[0;31m# competition_open_since_year\u001b[0m\u001b[0;34m\u001b[0m\u001b[0;34m\u001b[0m\u001b[0;34m\u001b[0m\u001b[0m\n",
      "\u001b[0;32m~/.pyenv/versions/3.8.0/envs/DataScienceEmProducao/lib/python3.8/site-packages/pandas/core/series.py\u001b[0m in \u001b[0;36m__getitem__\u001b[0;34m(self, key)\u001b[0m\n\u001b[1;32m    851\u001b[0m \u001b[0;34m\u001b[0m\u001b[0m\n\u001b[1;32m    852\u001b[0m         \u001b[0;32melif\u001b[0m \u001b[0mkey_is_scalar\u001b[0m\u001b[0;34m:\u001b[0m\u001b[0;34m\u001b[0m\u001b[0;34m\u001b[0m\u001b[0m\n\u001b[0;32m--> 853\u001b[0;31m             \u001b[0;32mreturn\u001b[0m \u001b[0mself\u001b[0m\u001b[0;34m.\u001b[0m\u001b[0m_get_value\u001b[0m\u001b[0;34m(\u001b[0m\u001b[0mkey\u001b[0m\u001b[0;34m)\u001b[0m\u001b[0;34m\u001b[0m\u001b[0;34m\u001b[0m\u001b[0m\n\u001b[0m\u001b[1;32m    854\u001b[0m \u001b[0;34m\u001b[0m\u001b[0m\n\u001b[1;32m    855\u001b[0m         \u001b[0;32mif\u001b[0m \u001b[0mis_hashable\u001b[0m\u001b[0;34m(\u001b[0m\u001b[0mkey\u001b[0m\u001b[0;34m)\u001b[0m\u001b[0;34m:\u001b[0m\u001b[0;34m\u001b[0m\u001b[0;34m\u001b[0m\u001b[0m\n",
      "\u001b[0;32m~/.pyenv/versions/3.8.0/envs/DataScienceEmProducao/lib/python3.8/site-packages/pandas/core/series.py\u001b[0m in \u001b[0;36m_get_value\u001b[0;34m(self, label, takeable)\u001b[0m\n\u001b[1;32m    960\u001b[0m         \u001b[0;31m# Similar to Index.get_value, but we do not fall back to positional\u001b[0m\u001b[0;34m\u001b[0m\u001b[0;34m\u001b[0m\u001b[0;34m\u001b[0m\u001b[0m\n\u001b[1;32m    961\u001b[0m         \u001b[0mloc\u001b[0m \u001b[0;34m=\u001b[0m \u001b[0mself\u001b[0m\u001b[0;34m.\u001b[0m\u001b[0mindex\u001b[0m\u001b[0;34m.\u001b[0m\u001b[0mget_loc\u001b[0m\u001b[0;34m(\u001b[0m\u001b[0mlabel\u001b[0m\u001b[0;34m)\u001b[0m\u001b[0;34m\u001b[0m\u001b[0;34m\u001b[0m\u001b[0m\n\u001b[0;32m--> 962\u001b[0;31m         \u001b[0;32mreturn\u001b[0m \u001b[0mself\u001b[0m\u001b[0;34m.\u001b[0m\u001b[0mindex\u001b[0m\u001b[0;34m.\u001b[0m\u001b[0m_get_values_for_loc\u001b[0m\u001b[0;34m(\u001b[0m\u001b[0mself\u001b[0m\u001b[0;34m,\u001b[0m \u001b[0mloc\u001b[0m\u001b[0;34m,\u001b[0m \u001b[0mlabel\u001b[0m\u001b[0;34m)\u001b[0m\u001b[0;34m\u001b[0m\u001b[0;34m\u001b[0m\u001b[0m\n\u001b[0m\u001b[1;32m    963\u001b[0m \u001b[0;34m\u001b[0m\u001b[0m\n\u001b[1;32m    964\u001b[0m     \u001b[0;32mdef\u001b[0m \u001b[0m__setitem__\u001b[0m\u001b[0;34m(\u001b[0m\u001b[0mself\u001b[0m\u001b[0;34m,\u001b[0m \u001b[0mkey\u001b[0m\u001b[0;34m,\u001b[0m \u001b[0mvalue\u001b[0m\u001b[0;34m)\u001b[0m\u001b[0;34m:\u001b[0m\u001b[0;34m\u001b[0m\u001b[0;34m\u001b[0m\u001b[0m\n",
      "\u001b[0;32m~/.pyenv/versions/3.8.0/envs/DataScienceEmProducao/lib/python3.8/site-packages/pandas/core/indexes/base.py\u001b[0m in \u001b[0;36m_get_values_for_loc\u001b[0;34m(self, series, loc, key)\u001b[0m\n\u001b[1;32m   4853\u001b[0m         \"\"\"\n\u001b[1;32m   4854\u001b[0m         \u001b[0;32mif\u001b[0m \u001b[0mis_integer\u001b[0m\u001b[0;34m(\u001b[0m\u001b[0mloc\u001b[0m\u001b[0;34m)\u001b[0m\u001b[0;34m:\u001b[0m\u001b[0;34m\u001b[0m\u001b[0;34m\u001b[0m\u001b[0m\n\u001b[0;32m-> 4855\u001b[0;31m             \u001b[0;32mreturn\u001b[0m \u001b[0mseries\u001b[0m\u001b[0;34m.\u001b[0m\u001b[0m_values\u001b[0m\u001b[0;34m[\u001b[0m\u001b[0mloc\u001b[0m\u001b[0;34m]\u001b[0m\u001b[0;34m\u001b[0m\u001b[0;34m\u001b[0m\u001b[0m\n\u001b[0m\u001b[1;32m   4856\u001b[0m \u001b[0;34m\u001b[0m\u001b[0m\n\u001b[1;32m   4857\u001b[0m         \u001b[0;32mreturn\u001b[0m \u001b[0mseries\u001b[0m\u001b[0;34m.\u001b[0m\u001b[0miloc\u001b[0m\u001b[0;34m[\u001b[0m\u001b[0mloc\u001b[0m\u001b[0;34m]\u001b[0m\u001b[0;34m\u001b[0m\u001b[0;34m\u001b[0m\u001b[0m\n",
      "\u001b[0;32m~/.pyenv/versions/3.8.0/envs/DataScienceEmProducao/lib/python3.8/site-packages/pandas/core/series.py\u001b[0m in \u001b[0;36m_values\u001b[0;34m(self)\u001b[0m\n\u001b[1;32m    615\u001b[0m \u001b[0;34m\u001b[0m\u001b[0m\n\u001b[1;32m    616\u001b[0m         \"\"\"\n\u001b[0;32m--> 617\u001b[0;31m         \u001b[0;32mreturn\u001b[0m \u001b[0mself\u001b[0m\u001b[0;34m.\u001b[0m\u001b[0m_mgr\u001b[0m\u001b[0;34m.\u001b[0m\u001b[0minternal_values\u001b[0m\u001b[0;34m(\u001b[0m\u001b[0;34m)\u001b[0m\u001b[0;34m\u001b[0m\u001b[0;34m\u001b[0m\u001b[0m\n\u001b[0m\u001b[1;32m    618\u001b[0m \u001b[0;34m\u001b[0m\u001b[0m\n\u001b[1;32m    619\u001b[0m     \u001b[0;31m# error: Decorated property not supported\u001b[0m\u001b[0;34m\u001b[0m\u001b[0;34m\u001b[0m\u001b[0;34m\u001b[0m\u001b[0m\n",
      "\u001b[0;32m~/.pyenv/versions/3.8.0/envs/DataScienceEmProducao/lib/python3.8/site-packages/pandas/core/internals/managers.py\u001b[0m in \u001b[0;36minternal_values\u001b[0;34m(self)\u001b[0m\n\u001b[1;32m   1626\u001b[0m     \u001b[0;32mdef\u001b[0m \u001b[0minternal_values\u001b[0m\u001b[0;34m(\u001b[0m\u001b[0mself\u001b[0m\u001b[0;34m)\u001b[0m\u001b[0;34m:\u001b[0m\u001b[0;34m\u001b[0m\u001b[0;34m\u001b[0m\u001b[0m\n\u001b[1;32m   1627\u001b[0m         \u001b[0;34m\"\"\"The array that Series._values returns\"\"\"\u001b[0m\u001b[0;34m\u001b[0m\u001b[0;34m\u001b[0m\u001b[0m\n\u001b[0;32m-> 1628\u001b[0;31m         \u001b[0;32mreturn\u001b[0m \u001b[0mself\u001b[0m\u001b[0;34m.\u001b[0m\u001b[0m_block\u001b[0m\u001b[0;34m.\u001b[0m\u001b[0minternal_values\u001b[0m\u001b[0;34m(\u001b[0m\u001b[0;34m)\u001b[0m\u001b[0;34m\u001b[0m\u001b[0;34m\u001b[0m\u001b[0m\n\u001b[0m\u001b[1;32m   1629\u001b[0m \u001b[0;34m\u001b[0m\u001b[0m\n\u001b[1;32m   1630\u001b[0m     \u001b[0;34m@\u001b[0m\u001b[0mproperty\u001b[0m\u001b[0;34m\u001b[0m\u001b[0;34m\u001b[0m\u001b[0m\n",
      "\u001b[0;32m~/.pyenv/versions/3.8.0/envs/DataScienceEmProducao/lib/python3.8/site-packages/pandas/core/internals/managers.py\u001b[0m in \u001b[0;36m_block\u001b[0;34m(self)\u001b[0m\n\u001b[1;32m   1588\u001b[0m     \u001b[0;34m@\u001b[0m\u001b[0mproperty\u001b[0m\u001b[0;34m\u001b[0m\u001b[0;34m\u001b[0m\u001b[0m\n\u001b[1;32m   1589\u001b[0m     \u001b[0;32mdef\u001b[0m \u001b[0m_block\u001b[0m\u001b[0;34m(\u001b[0m\u001b[0mself\u001b[0m\u001b[0;34m)\u001b[0m \u001b[0;34m->\u001b[0m \u001b[0mBlock\u001b[0m\u001b[0;34m:\u001b[0m\u001b[0;34m\u001b[0m\u001b[0;34m\u001b[0m\u001b[0m\n\u001b[0;32m-> 1590\u001b[0;31m         \u001b[0;32mreturn\u001b[0m \u001b[0mself\u001b[0m\u001b[0;34m.\u001b[0m\u001b[0mblocks\u001b[0m\u001b[0;34m[\u001b[0m\u001b[0;36m0\u001b[0m\u001b[0;34m]\u001b[0m\u001b[0;34m\u001b[0m\u001b[0;34m\u001b[0m\u001b[0m\n\u001b[0m\u001b[1;32m   1591\u001b[0m \u001b[0;34m\u001b[0m\u001b[0m\n\u001b[1;32m   1592\u001b[0m     \u001b[0;34m@\u001b[0m\u001b[0mproperty\u001b[0m\u001b[0;34m\u001b[0m\u001b[0;34m\u001b[0m\u001b[0m\n",
      "\u001b[0;31mKeyboardInterrupt\u001b[0m: "
     ]
    }
   ],
   "source": [
    "# competition_distance\n",
    "# for complete the NaN elements, just apply a lambda function with a value > df1['competition_distance'].max()\n",
    "df1['competition_distance'] = df1['competition_distance'].apply(lambda x: 2000000.0\n",
    "                                                                if math.isnan(x)\n",
    "                                                                else x)\n",
    "\n",
    "# competition_open_since_month\n",
    "# change the NaN elements to date\n",
    "df1['competition_open_since_month'] = df1.apply(lambda x: x['date'].month\n",
    "                                                if math.isnan(x['competition_open_since_month'])\n",
    "                                                else x['competition_open_since_month'], axis=1)\n",
    "\n",
    "# competition_open_since_year\n",
    "# equal to competition_since_month\n",
    "df1['competition_open_since_year'] = df1.apply(lambda x: x['date'].year\n",
    "                                               if math.isnan(x['competition_open_since_year'])\n",
    "                                               else x['competition_open_since_year'], axis=1)\n",
    "\n",
    "# promo2_since_week\n",
    "df1['promo2_since_week'] = df1.apply(lambda x: x['date'].week \n",
    "                                     if math.isnan(x['promo2_since_week']) \n",
    "                                     else x['promo2_since_week'], axis=1)\n",
    "\n",
    "# promo2_since_year\n",
    "df1['promo2_since_year'] = df1.apply(lambda x: x['date'].year \n",
    "                                     if math.isnan(x['promo2_since_year']) \n",
    "                                     else x['promo2_since_year'], axis=1)\n",
    "\n",
    "\n",
    "# promo_interval\n",
    "# changing names of month to numbers makes the manipulation easier\n",
    "month_map = {1: 'Jan',  2: 'Fev',  3: 'Mar',  4: 'Apr',  5: 'May',  6: 'Jun',\n",
    "             7: 'Jul',  8: 'Aug',  9: 'Sep',  10: 'Oct', 11: 'Nov', 12: 'Dec'}\n",
    "\n",
    "promo_interval_fill_na = df1['promo_interval'].fillna(0, inplace=True)\n",
    "\n",
    "# there's a list, use .map instead of .apply\n",
    "df1['month_map'] = df1['date'].dt.month.map(month_map)\n",
    "\n",
    "df1['is_promo'] = df1[['promo_interval', 'month_map']].apply(\n",
    "    lambda x: 0 if x['promo_interval'] == 0 else 1 if x['month_map'] in x['promo_interval'].split(',') else 0, axis=1)"
   ]
  },
  {
   "cell_type": "markdown",
   "metadata": {
    "heading_collapsed": "true",
    "hidden": true,
    "tags": []
   },
   "source": [
    "## 1.7 Change types"
   ]
  },
  {
   "cell_type": "code",
   "execution_count": null,
   "metadata": {
    "ExecuteTime": {
     "end_time": "2021-02-12T23:20:40.740625Z",
     "start_time": "2021-02-12T23:20:40.678290Z"
    },
    "execution": {
     "iopub.status.busy": "2021-03-28T16:41:22.404402Z",
     "iopub.status.idle": "2021-03-28T16:41:22.404745Z",
     "shell.execute_reply": "2021-03-28T16:41:22.404577Z"
    },
    "hidden": true
   },
   "outputs": [],
   "source": [
    "# converting competition_open_since_month, competition_open_since_year, promo2_since_week, promo2_since_year  from float to int\n",
    "df1['competition_open_since_month'] = df1['competition_open_since_month'].astype(\n",
    "    int)\n",
    "\n",
    "df1['competition_open_since_year'] = df1['competition_open_since_year'].astype(\n",
    "    int)\n",
    "\n",
    "df1['promo2_since_week'] = df1['promo2_since_week'].astype(int)\n",
    "\n",
    "df1['promo2_since_year'] = df1['promo2_since_year'].astype(int)"
   ]
  },
  {
   "cell_type": "markdown",
   "metadata": {
    "hidden": true,
    "tags": []
   },
   "source": [
    "## 1.8 Descriptive statistical"
   ]
  },
  {
   "cell_type": "code",
   "execution_count": null,
   "metadata": {
    "ExecuteTime": {
     "end_time": "2021-02-12T23:20:40.929206Z",
     "start_time": "2021-02-12T23:20:40.742631Z"
    },
    "execution": {
     "iopub.status.busy": "2021-03-28T16:41:22.405566Z",
     "iopub.status.idle": "2021-03-28T16:41:22.405948Z",
     "shell.execute_reply": "2021-03-28T16:41:22.405778Z"
    },
    "hidden": true
   },
   "outputs": [],
   "source": [
    "num_attributes = df1.select_dtypes(include=['int64', 'float64'])\n",
    "cat_attributes = df1.select_dtypes(\n",
    "    exclude=['int64', 'float64', 'datetime64[ns]'])"
   ]
  },
  {
   "cell_type": "markdown",
   "metadata": {
    "heading_collapsed": true,
    "hidden": true
   },
   "source": [
    "### 1.8.1 Numerical attributes"
   ]
  },
  {
   "cell_type": "code",
   "execution_count": null,
   "metadata": {
    "ExecuteTime": {
     "end_time": "2021-02-12T23:20:46.483520Z",
     "start_time": "2021-02-12T23:20:40.931238Z"
    },
    "execution": {
     "iopub.status.busy": "2021-03-28T16:41:22.406626Z",
     "iopub.status.idle": "2021-03-28T16:41:22.406986Z",
     "shell.execute_reply": "2021-03-28T16:41:22.406817Z"
    },
    "hidden": true
   },
   "outputs": [],
   "source": [
    "# * Central tendency - mean, median\n",
    "ct1 = pd.DataFrame(num_attributes.apply(np.mean)).T\n",
    "ct2 = pd.DataFrame(num_attributes.apply(np.median)).T\n",
    "\n",
    "#* Dispersion - std, min, max, skew, kurtosis\n",
    "d1 = pd.DataFrame(num_attributes.apply(np.std)).T\n",
    "d2 = pd.DataFrame(num_attributes.apply(min)).T\n",
    "d3 = pd.DataFrame(num_attributes.apply(max)).T\n",
    "\n",
    "\n",
    "#! Range is the difference between the max value and min value\n",
    "d4 = pd.DataFrame(num_attributes.apply(lambda x: x.max() - x.min())).T\n",
    "\n",
    "d5 = pd.DataFrame(num_attributes.apply(lambda x: x.skew())).T\n",
    "d6 = pd.DataFrame(num_attributes.apply(lambda x: x.kurtosis())).T\n",
    "\n",
    "# * Concat\n",
    "m = pd.concat([d2, d3, d4, ct1, ct2, d1, d5, d6]).T.reset_index()\n",
    "m.columns = ['attributes', 'min', 'max', 'range',\n",
    "             'mean', 'median', 'std', 'skew', 'kurtosis']\n",
    "m"
   ]
  },
  {
   "cell_type": "code",
   "execution_count": null,
   "metadata": {
    "ExecuteTime": {
     "end_time": "2021-02-12T23:21:08.548215Z",
     "start_time": "2021-02-12T23:20:46.488825Z"
    },
    "execution": {
     "iopub.status.busy": "2021-03-28T16:41:22.407789Z",
     "iopub.status.idle": "2021-03-28T16:41:22.408233Z",
     "shell.execute_reply": "2021-03-28T16:41:22.408033Z"
    },
    "hidden": true
   },
   "outputs": [],
   "source": [
    "# Using subplot and adjusting the size of the plots\n",
    "fig1, axes = plt.subplots(3, 2, figsize=figsize)\n",
    "fig1.tight_layout()\n",
    "\n",
    "# Sales\n",
    "sns.set_style('dark')\n",
    "dist_sales = sns.distplot(df1['sales'], color=blue, ax=axes[0, 0])\n",
    "dist_sales.set_title('Sales')\n",
    "dist_sales.set(xlabel='')\n",
    "\n",
    "# Customers\n",
    "dist_customers = sns.distplot(df1['customers'], color=green, ax=axes[0, 1])\n",
    "dist_customers.set_title('Customers')\n",
    "dist_customers.set(xlabel='')\n",
    "\n",
    "# Competition Open Since Month\n",
    "dist_competition_open_since_month = sns.distplot(\n",
    "    df1['competition_open_since_month'], color=blue, ax=axes[1, 0])\n",
    "dist_competition_open_since_month.set_title('Competition open since month')\n",
    "dist_competition_open_since_month.set(xlabel='')\n",
    "\n",
    "# Competition Open Since Year\n",
    "dist_competition_open_since_year = sns.distplot(\n",
    "    df1['competition_open_since_year'], color=green, ax=axes[1, 1])\n",
    "dist_competition_open_since_year.set_title('Competition open since year')\n",
    "dist_competition_open_since_year.set(xlabel='')\n",
    "\n",
    "# Promo 2 Since Week\n",
    "dist_promo2_since_week = sns.distplot(\n",
    "    df1['promo2_since_week'], color=blue, ax=axes[2, 0])\n",
    "dist_promo2_since_week.set_title('Promo 2 since week')\n",
    "dist_promo2_since_week.set(xlabel='')\n",
    "\n",
    "# Promo 2 Since Year\n",
    "dist_promo2_since_year = sns.distplot(\n",
    "    df1['promo2_since_year'], color=green, ax=axes[2, 1])\n",
    "dist_promo2_since_year.set_title('Promo 2 since year')\n",
    "dist_promo2_since_year.set(xlabel='')"
   ]
  },
  {
   "cell_type": "markdown",
   "metadata": {
    "heading_collapsed": true,
    "hidden": true
   },
   "source": [
    "### 1.8.2 Categorical attributes"
   ]
  },
  {
   "cell_type": "code",
   "execution_count": null,
   "metadata": {
    "ExecuteTime": {
     "end_time": "2021-02-12T23:21:08.694640Z",
     "start_time": "2021-02-12T23:21:08.549869Z"
    },
    "execution": {
     "iopub.status.busy": "2021-03-28T16:41:22.408993Z",
     "iopub.status.idle": "2021-03-28T16:41:22.409333Z",
     "shell.execute_reply": "2021-03-28T16:41:22.409165Z"
    },
    "hidden": true
   },
   "outputs": [],
   "source": [
    "#! List of categorical attributes\n",
    "cat_attributes.apply(lambda x: x.unique().shape[0])"
   ]
  },
  {
   "cell_type": "code",
   "execution_count": null,
   "metadata": {
    "ExecuteTime": {
     "end_time": "2021-02-12T23:21:09.548335Z",
     "start_time": "2021-02-12T23:21:08.696218Z"
    },
    "execution": {
     "iopub.status.busy": "2021-03-28T16:41:22.410120Z",
     "iopub.status.idle": "2021-03-28T16:41:22.410497Z",
     "shell.execute_reply": "2021-03-28T16:41:22.410296Z"
    },
    "hidden": true
   },
   "outputs": [],
   "source": [
    "#! Conditions\n",
    "aux = df1[(df1['state_holiday'] != '0') & (df1['sales'] > 0)]\n",
    "\n",
    "# Using subplot and adjusting the size of the plots\n",
    "fig2, (ax1, ax2, ax3) = plt.subplots(1, 3, figsize=figsize)\n",
    "fig2.suptitle('Categorical attributes')\n",
    "\n",
    "# Boxplot 1\n",
    "sns.set_style(\"darkgrid\")\n",
    "bp_state_holiday = sns.boxplot(\n",
    "    ax=ax1, data=aux, x='state_holiday', y='sales', palette='pastel')\n",
    "bp_state_holiday.set(xlabel=\"State Holiday\", ylabel=\"Sales\")\n",
    "\n",
    "# Boxplot 2\n",
    "bp_store_type = sns.boxplot(\n",
    "    ax=ax2, data=aux, x='store_type', y='sales', palette='pastel')\n",
    "bp_store_type.set(xlabel=\"Store Type\", ylabel=\"\")\n",
    "\n",
    "# Boxplot 3\n",
    "bp_assortment = sns.boxplot(\n",
    "    ax=ax3, data=aux, x='assortment', y='sales', palette='pastel')\n",
    "bp_assortment.set(xlabel=\"Assortment\", ylabel=\"\")"
   ]
  },
  {
   "cell_type": "markdown",
   "metadata": {
    "heading_collapsed": "true",
    "tags": []
   },
   "source": [
    "# 2.0. FEATURE ENGINEERING"
   ]
  },
  {
   "cell_type": "markdown",
   "metadata": {
    "heading_collapsed": "true",
    "hidden": true,
    "tags": []
   },
   "source": [
    "## 2.0.1 Dataset copy"
   ]
  },
  {
   "cell_type": "code",
   "execution_count": null,
   "metadata": {
    "ExecuteTime": {
     "end_time": "2021-02-12T23:21:09.628792Z",
     "start_time": "2021-02-12T23:21:09.550454Z"
    },
    "execution": {
     "iopub.status.busy": "2021-03-28T16:41:22.411269Z",
     "iopub.status.idle": "2021-03-28T16:41:22.411605Z",
     "shell.execute_reply": "2021-03-28T16:41:22.411440Z"
    },
    "hidden": true
   },
   "outputs": [],
   "source": [
    "# always create a copy of the df\n",
    "df2 = df1.copy()"
   ]
  },
  {
   "cell_type": "markdown",
   "metadata": {
    "hidden": true,
    "tags": []
   },
   "source": [
    "## 2.1. Mind map hypothesis"
   ]
  },
  {
   "cell_type": "code",
   "execution_count": null,
   "metadata": {
    "ExecuteTime": {
     "end_time": "2021-02-12T23:21:09.640423Z",
     "start_time": "2021-02-12T23:21:09.634290Z"
    },
    "execution": {
     "iopub.status.busy": "2021-03-28T16:41:22.412325Z",
     "iopub.status.idle": "2021-03-28T16:41:22.412667Z",
     "shell.execute_reply": "2021-03-28T16:41:22.412495Z"
    },
    "hidden": true
   },
   "outputs": [],
   "source": [
    "Image('../img/mind_map_hypothesis.png')"
   ]
  },
  {
   "cell_type": "markdown",
   "metadata": {
    "heading_collapsed": true,
    "hidden": true
   },
   "source": [
    "## 2.2. Hypothesis creation"
   ]
  },
  {
   "cell_type": "markdown",
   "metadata": {
    "hidden": true,
    "tags": []
   },
   "source": [
    "### 2.2.1 Store hypothesis"
   ]
  },
  {
   "cell_type": "markdown",
   "metadata": {
    "hidden": true
   },
   "source": [
    "**1.** Stores with more employees should sell more.\n",
    "\n",
    "**2.** Stores with more stock capacity should sell more.\n",
    "\n",
    "**3.** Larger stores should sell more.\n",
    "\n",
    "**4.** Stores with a larger assortment should sell more.\n",
    "\n",
    "**5** Stores with closer competitors should sell less.\n",
    "\n",
    "**6** Stores dealing with competitors for a long time should sell more."
   ]
  },
  {
   "cell_type": "markdown",
   "metadata": {
    "hidden": true
   },
   "source": [
    "\n",
    "### 2.2.2 Product hypothesis"
   ]
  },
  {
   "cell_type": "markdown",
   "metadata": {
    "hidden": true
   },
   "source": [
    "**1.** Stores that invest more in Marketing should sell more.\n",
    "\n",
    "**2.** Stores with a huge product exposure should sell more.\n",
    "\n",
    "**3.** Stores with lower priced products should sell more should sell more.\n",
    "\n",
    "**4.** Stores with more aggressive promotions (bigger discounts), should sell more.\n",
    "\n",
    "**5.** Stores with active promotions for more time should sell more.\n",
    "\n",
    "**6.** Stores with more promotion days should sell more.\n",
    "\n",
    "**7.** Stores with more consecutive promotions should sell more."
   ]
  },
  {
   "cell_type": "markdown",
   "metadata": {
    "hidden": true,
    "tags": []
   },
   "source": [
    "### 2.2.3 Seasonal hypothesis"
   ]
  },
  {
   "cell_type": "markdown",
   "metadata": {
    "hidden": true
   },
   "source": [
    "**1.** Stores open during the Christmas holiday should sell more.\n",
    "\n",
    "**2.** Stores should sell more over the years.\n",
    "\n",
    "**3.** Stores should sell more after the 10th of each month.\n",
    "\n",
    "**4.** Stores should sell more in the second half of the year.\n",
    "\n",
    "**5.** Stores should sell less on weekends.\n",
    "\n",
    "**6.** Stores should sell less during school holidays."
   ]
  },
  {
   "cell_type": "markdown",
   "metadata": {
    "hidden": true,
    "tags": []
   },
   "source": [
    "## 2.3 Hypothesis final list"
   ]
  },
  {
   "cell_type": "markdown",
   "metadata": {
    "hidden": true
   },
   "source": [
    "**1.** Stores with a larger assortment should sell more.\n",
    "\n",
    "**2.** Stores with closer competitors should sell less.\n",
    "\n",
    "**3.** Stores with longer competitors should sell more.\n",
    "\n",
    "**4.** Stores with active promotions for longer should sell more.\n",
    "\n",
    "**5.** Stores with more promotion days should sell more.\n",
    "\n",
    "**6.** Stores with more consecutive promotions should sell more.\n",
    "\n",
    "**7.** Stores open during the Christmas holiday should sell more.\n",
    "\n",
    "**8.** Stores should sell more over the years.\n",
    "\n",
    "**9.** Stores should sell more after the 10th of each month.\n",
    "\n",
    "**10.** Stores should sell more in the second half of the year.\n",
    "\n",
    "**11.** Stores should sell less on weekends.\n",
    "\n",
    "**12.** Stores should sell less during school holidays."
   ]
  },
  {
   "cell_type": "markdown",
   "metadata": {
    "hidden": true,
    "tags": []
   },
   "source": [
    "## 2.4 Feature engineering"
   ]
  },
  {
   "cell_type": "code",
   "execution_count": null,
   "metadata": {
    "ExecuteTime": {
     "end_time": "2021-02-12T23:22:13.930297Z",
     "start_time": "2021-02-12T23:21:09.642769Z"
    },
    "execution": {
     "iopub.status.busy": "2021-03-28T16:41:22.413389Z",
     "iopub.status.idle": "2021-03-28T16:41:22.413717Z",
     "shell.execute_reply": "2021-03-28T16:41:22.413555Z"
    },
    "hidden": true
   },
   "outputs": [],
   "source": [
    "# year\n",
    "df2['year'] = df2['date'].dt.year\n",
    "\n",
    "# month\n",
    "df2['month'] = df2['date'].dt.month\n",
    "\n",
    "# day\n",
    "df2['day'] = df2['date'].dt.day\n",
    "\n",
    "# week of year\n",
    "df2['week_of_year'] = df2['date'].dt.weekofyear\n",
    "\n",
    "#  year week\n",
    "df2['year_week'] = df2['date'].dt.strftime('%Y-%W')\n",
    "\n",
    "# competition since\n",
    "df2['competition_since'] = df2.apply(lambda x: datetime.datetime(\n",
    "    year=x['competition_open_since_year'], month=x['competition_open_since_month'], day=1), axis=1)\n",
    "df2['competition_time_month'] = (\n",
    "    (df2['date'] - df2['competition_since'])/30).apply(lambda x: x.days).astype(int)\n",
    "\n",
    "# promo since\n",
    "df2['promo_since'] = df2['promo2_since_year'].astype(\n",
    "    str) + '-' + df2['promo2_since_week'].astype(str)\n",
    "df2['promo_since'] = df2['promo_since'].apply(lambda x: datetime.datetime.strptime(\n",
    "    x + '-1', '%Y-%W-%w') - datetime.timedelta(days=7))\n",
    "df2['promo_time_week'] = (\n",
    "    (df2['date'] - df2['promo_since'])/7).apply(lambda x: x.days).astype(int)\n",
    "\n",
    "# assortment\n",
    "df2['assortment'] = df2['assortment'].apply(\n",
    "    lambda x: 'basic' if x == 'a' else 'extra' if x == 'b' else 'extended')\n",
    "\n",
    "# state holiday\n",
    "df2['state_holiday'] = df2['state_holiday'].apply(\n",
    "    lambda x: 'public_holiday' if x == 'a' else 'easter_holiday' if x == 'b' else 'christmas' if x == 'c' else 'regular_day')"
   ]
  },
  {
   "cell_type": "markdown",
   "metadata": {
    "ExecuteTime": {
     "end_time": "2021-01-12T22:05:21.134657Z",
     "start_time": "2021-01-12T22:05:21.132561Z"
    },
    "heading_collapsed": "true",
    "tags": []
   },
   "source": [
    "# 3.0 VARIABLE FILTERING\n"
   ]
  },
  {
   "cell_type": "markdown",
   "metadata": {
    "heading_collapsed": "true",
    "hidden": true,
    "tags": []
   },
   "source": [
    "## 3.0.1 Dataset copy"
   ]
  },
  {
   "cell_type": "code",
   "execution_count": null,
   "metadata": {
    "ExecuteTime": {
     "end_time": "2021-02-12T23:22:14.145974Z",
     "start_time": "2021-02-12T23:22:13.931866Z"
    },
    "execution": {
     "iopub.status.busy": "2021-03-28T16:41:22.414349Z",
     "iopub.status.idle": "2021-03-28T16:41:22.414712Z",
     "shell.execute_reply": "2021-03-28T16:41:22.414548Z"
    },
    "hidden": true
   },
   "outputs": [],
   "source": [
    "# always create a copy of the df\n",
    "df3 = df2.copy()"
   ]
  },
  {
   "cell_type": "code",
   "execution_count": null,
   "metadata": {
    "ExecuteTime": {
     "end_time": "2021-02-12T23:22:14.170459Z",
     "start_time": "2021-02-12T23:22:14.147715Z"
    },
    "execution": {
     "iopub.status.busy": "2021-03-28T16:41:22.415427Z",
     "iopub.status.idle": "2021-03-28T16:41:22.415757Z",
     "shell.execute_reply": "2021-03-28T16:41:22.415595Z"
    },
    "hidden": true
   },
   "outputs": [],
   "source": [
    "df3.head()"
   ]
  },
  {
   "cell_type": "markdown",
   "metadata": {
    "ExecuteTime": {
     "end_time": "2021-01-12T22:10:29.488129Z",
     "start_time": "2021-01-12T22:07:20.492Z"
    },
    "hidden": true,
    "tags": []
   },
   "source": [
    "## 3.1 Line filtering"
   ]
  },
  {
   "cell_type": "code",
   "execution_count": null,
   "metadata": {
    "ExecuteTime": {
     "end_time": "2021-02-12T23:22:14.305226Z",
     "start_time": "2021-02-12T23:22:14.172258Z"
    },
    "execution": {
     "iopub.status.busy": "2021-03-28T16:41:22.416462Z",
     "iopub.status.idle": "2021-03-28T16:41:22.416821Z",
     "shell.execute_reply": "2021-03-28T16:41:22.416637Z"
    },
    "hidden": true
   },
   "outputs": [],
   "source": [
    "df3 = df3[(df3['open'] != 0) & (df3['sales'] > 0)]"
   ]
  },
  {
   "cell_type": "markdown",
   "metadata": {
    "ExecuteTime": {
     "end_time": "2021-01-12T22:10:29.491361Z",
     "start_time": "2021-01-12T22:09:55.704Z"
    },
    "hidden": true,
    "tags": []
   },
   "source": [
    "## 3.2 Column Selection"
   ]
  },
  {
   "cell_type": "code",
   "execution_count": null,
   "metadata": {
    "ExecuteTime": {
     "end_time": "2021-02-12T23:22:14.396603Z",
     "start_time": "2021-02-12T23:22:14.307262Z"
    },
    "execution": {
     "iopub.status.busy": "2021-03-28T16:41:22.417472Z",
     "iopub.status.idle": "2021-03-28T16:41:22.417858Z",
     "shell.execute_reply": "2021-03-28T16:41:22.417680Z"
    },
    "hidden": true
   },
   "outputs": [],
   "source": [
    "cols_drop = ['customers', 'open', 'promo_interval', 'month_map']\n",
    "df3 = df3.drop(cols_drop, axis=1)"
   ]
  },
  {
   "cell_type": "code",
   "execution_count": null,
   "metadata": {
    "ExecuteTime": {
     "end_time": "2021-02-12T23:22:14.402988Z",
     "start_time": "2021-02-12T23:22:14.398433Z"
    },
    "execution": {
     "iopub.status.busy": "2021-03-28T16:41:22.418565Z",
     "iopub.status.idle": "2021-03-28T16:41:22.418931Z",
     "shell.execute_reply": "2021-03-28T16:41:22.418745Z"
    },
    "hidden": true
   },
   "outputs": [],
   "source": [
    "df3.columns"
   ]
  },
  {
   "cell_type": "markdown",
   "metadata": {
    "tags": []
   },
   "source": [
    "# 4.0 EXPLORATORY DATA ANALYSIS"
   ]
  },
  {
   "cell_type": "markdown",
   "metadata": {
    "heading_collapsed": "true",
    "hidden": true,
    "tags": []
   },
   "source": [
    "## 4.0.1 Dataset copy"
   ]
  },
  {
   "cell_type": "code",
   "execution_count": null,
   "metadata": {
    "ExecuteTime": {
     "end_time": "2021-02-12T23:22:14.483935Z",
     "start_time": "2021-02-12T23:22:14.404930Z"
    },
    "execution": {
     "iopub.status.busy": "2021-03-28T16:41:22.419710Z",
     "iopub.status.idle": "2021-03-28T16:41:22.420135Z",
     "shell.execute_reply": "2021-03-28T16:41:22.419890Z"
    },
    "hidden": true
   },
   "outputs": [],
   "source": [
    "df4 = df3.copy()"
   ]
  },
  {
   "cell_type": "markdown",
   "metadata": {
    "ExecuteTime": {
     "end_time": "2021-01-13T18:48:54.187855Z",
     "start_time": "2021-01-13T18:48:54.185773Z"
    },
    "hidden": true,
    "tags": []
   },
   "source": [
    "## 4.1 Univariate analysis"
   ]
  },
  {
   "cell_type": "markdown",
   "metadata": {
    "hidden": true,
    "tags": []
   },
   "source": [
    "### 4.2.1 Response variable"
   ]
  },
  {
   "cell_type": "code",
   "execution_count": null,
   "metadata": {
    "ExecuteTime": {
     "end_time": "2021-02-12T23:22:15.205992Z",
     "start_time": "2021-02-12T23:22:14.485668Z"
    },
    "execution": {
     "iopub.status.busy": "2021-03-28T16:41:22.420846Z",
     "iopub.status.idle": "2021-03-28T16:41:22.421232Z",
     "shell.execute_reply": "2021-03-28T16:41:22.421057Z"
    },
    "hidden": true,
    "hide_input": true
   },
   "outputs": [],
   "source": [
    "plt.figure(figsize=figsize)\n",
    "dp_sales = sns.distplot(df4['sales'], color=gray, kde=False)"
   ]
  },
  {
   "cell_type": "code",
   "execution_count": null,
   "metadata": {
    "ExecuteTime": {
     "end_time": "2021-02-12T23:22:16.011783Z",
     "start_time": "2021-02-12T23:22:15.207562Z"
    },
    "execution": {
     "iopub.status.busy": "2021-03-28T16:41:22.422219Z",
     "iopub.status.idle": "2021-03-28T16:41:22.422659Z",
     "shell.execute_reply": "2021-03-28T16:41:22.422422Z"
    },
    "hidden": true,
    "hide_input": true
   },
   "outputs": [],
   "source": [
    "plt.figure(figsize=figsize)\n",
    "sns.distplot(np.log1p(df4['sales']), color=gray, kde=False)"
   ]
  },
  {
   "cell_type": "markdown",
   "metadata": {
    "heading_collapsed": "true",
    "hidden": true,
    "tags": []
   },
   "source": [
    "### 4.2.2 Numerical variable"
   ]
  },
  {
   "cell_type": "code",
   "execution_count": null,
   "metadata": {
    "ExecuteTime": {
     "end_time": "2021-02-12T23:22:20.487676Z",
     "start_time": "2021-02-12T23:22:16.013397Z"
    },
    "execution": {
     "iopub.status.busy": "2021-03-28T16:41:22.423775Z",
     "iopub.status.idle": "2021-03-28T16:41:22.424365Z",
     "shell.execute_reply": "2021-03-28T16:41:22.424116Z"
    },
    "hidden": true
   },
   "outputs": [],
   "source": [
    "num_attributes_hist = num_attributes.hist(bins=25, color=red, figsize=figsize)"
   ]
  },
  {
   "cell_type": "markdown",
   "metadata": {
    "ExecuteTime": {
     "end_time": "2021-01-13T18:51:37.071069Z",
     "start_time": "2021-01-13T18:51:37.068897Z"
    },
    "heading_collapsed": "true",
    "hidden": true,
    "tags": []
   },
   "source": [
    "### 4.2.3 Categorical variable"
   ]
  },
  {
   "cell_type": "code",
   "execution_count": null,
   "metadata": {
    "ExecuteTime": {
     "end_time": "2021-02-12T23:22:20.497542Z",
     "start_time": "2021-02-12T23:22:20.489107Z"
    },
    "execution": {
     "iopub.status.busy": "2021-03-28T16:41:22.425419Z",
     "iopub.status.idle": "2021-03-28T16:41:22.425936Z",
     "shell.execute_reply": "2021-03-28T16:41:22.425657Z"
    },
    "hidden": true
   },
   "outputs": [],
   "source": [
    "cat_attributes.head()"
   ]
  },
  {
   "cell_type": "code",
   "execution_count": null,
   "metadata": {
    "ExecuteTime": {
     "end_time": "2021-02-12T23:22:20.519027Z",
     "start_time": "2021-02-12T23:22:20.499036Z"
    },
    "execution": {
     "iopub.status.busy": "2021-03-28T16:41:22.426876Z",
     "iopub.status.idle": "2021-03-28T16:41:22.427392Z",
     "shell.execute_reply": "2021-03-28T16:41:22.427178Z"
    },
    "hidden": true
   },
   "outputs": [],
   "source": [
    "df4['state_holiday'].drop_duplicates()"
   ]
  },
  {
   "cell_type": "code",
   "execution_count": null,
   "metadata": {
    "ExecuteTime": {
     "end_time": "2021-02-12T23:22:28.190772Z",
     "start_time": "2021-02-12T23:22:20.520758Z"
    },
    "execution": {
     "iopub.status.busy": "2021-03-28T16:41:22.428735Z",
     "iopub.status.idle": "2021-03-28T16:41:22.429454Z",
     "shell.execute_reply": "2021-03-28T16:41:22.429104Z"
    },
    "hidden": true
   },
   "outputs": [],
   "source": [
    "# Using subplot and adjusting the size of the plots\n",
    "fig3, axes = plt.subplots(3, 2, figsize=(20, 15))\n",
    "sns.set_style('dark')\n",
    "\n",
    "# ---------------------------------------------------------------------------------------------------------------\n",
    "\n",
    "# state_holiday\n",
    "without_regular_day = df4[df4['state_holiday'] != 'regular_day']\n",
    "\n",
    "wrd_countplot = sns.countplot(\n",
    "    without_regular_day['state_holiday'], palette='pastel', ax=axes[0, 0])\n",
    "\n",
    "sh_kdeplot1 = sns.kdeplot(df4[df4['state_holiday'] == 'public_holiday']\n",
    "                          ['sales'], label='Public holiday', shade=True, color=blue, ax=axes[0, 1])\n",
    "sh_kdeplot2 = sns.kdeplot(df4[df4['state_holiday'] == 'easter_holiday']\n",
    "                          ['sales'], label='Easter holiday', shade=True, color=orange, ax=axes[0, 1])\n",
    "sh_kdeplot3 = sns.kdeplot(df4[df4['state_holiday'] == 'christmas']\n",
    "                          ['sales'], label='Christmas', shade=True, color=green, ax=axes[0, 1])\n",
    "\n",
    "# ---------------------------------------------------------------------------------------------------------------\n",
    "\n",
    "# store_type\n",
    "st_countplot = sns.countplot(\n",
    "    df4['store_type'], palette='pastel', ax=axes[1, 0])\n",
    "\n",
    "\n",
    "st_kdeplot1 = sns.kdeplot(df4[df4['store_type'] == 'a']['sales'],\n",
    "                          label='a', shade=True, color=blue, ax=axes[1, 1])\n",
    "st_kdeplot2 = sns.kdeplot(df4[df4['store_type'] == 'b']['sales'],\n",
    "                          label='b', shade=True, color=orange, ax=axes[1, 1])\n",
    "st_kdeplot3 = sns.kdeplot(df4[df4['store_type'] == 'c']['sales'],\n",
    "                          label='c', shade=True, color=green, ax=axes[1, 1])\n",
    "st_kdeplot4 = sns.kdeplot(df4[df4['store_type'] == 'd']\n",
    "                          ['sales'], label='d', shade=True, color=red, ax=axes[1, 1])\n",
    "\n",
    "# ---------------------------------------------------------------------------------------------------------------\n",
    "\n",
    "# assortment\n",
    "a_countplot = sns.countplot(df4['assortment'], palette='pastel', ax=axes[2, 0])\n",
    "\n",
    "\n",
    "a_kdeplot1 = sns.kdeplot(df4[df4['assortment'] == 'extended']['sales'],\n",
    "                         label='extended', shade=True, color=blue, ax=axes[2, 1])\n",
    "a_kdeplot2 = sns.kdeplot(df4[df4['assortment'] == 'basic']['sales'],\n",
    "                         label='basic', shade=True, color=orange, ax=axes[2, 1])\n",
    "a_kdeplot3 = sns.kdeplot(df4[df4['assortment'] == 'extra']['sales'],\n",
    "                         label='extra', shade=True, color=green, ax=axes[2, 1])"
   ]
  },
  {
   "cell_type": "markdown",
   "metadata": {
    "ExecuteTime": {
     "end_time": "2021-01-13T18:49:02.020919Z",
     "start_time": "2021-01-13T18:49:02.018647Z"
    },
    "hidden": true,
    "tags": []
   },
   "source": [
    "## 4.2 Bivariate analysis"
   ]
  },
  {
   "cell_type": "markdown",
   "metadata": {
    "heading_collapsed": "true",
    "hidden": true,
    "tags": []
   },
   "source": [
    "### H1. Stores with a larger assortment should sell more.\n",
    "**FALSE** Stores with a LARGER ASSORTMENT sell LESS."
   ]
  },
  {
   "cell_type": "code",
   "execution_count": null,
   "metadata": {
    "ExecuteTime": {
     "end_time": "2021-02-12T23:22:29.399825Z",
     "start_time": "2021-02-12T23:22:28.192211Z"
    },
    "execution": {
     "iopub.status.busy": "2021-03-28T16:41:22.430827Z",
     "iopub.status.idle": "2021-03-28T16:41:22.431555Z",
     "shell.execute_reply": "2021-03-28T16:41:22.431283Z"
    },
    "hidden": true,
    "hide_input": false
   },
   "outputs": [],
   "source": [
    "fig_h1, (ax1, ax2, ax3, ax4) = plt.subplots(4, 1, figsize=(15, 20))\n",
    "\n",
    "# ---------------------------------------------------------------------------------------------------------------\n",
    "\n",
    "sns.set_style('dark')\n",
    "aux1 = df4[['assortment', 'sales']].groupby('assortment').sum().reset_index()\n",
    "aux1_barplot = sns.barplot(ax=ax1, x='assortment',\n",
    "                           y='sales', palette='pastel', data=aux1)\n",
    "\n",
    "# ---------------------------------------------------------------------------------------------------------------\n",
    "\n",
    "aux2 = df4[['year_week', 'assortment', 'sales']].groupby(\n",
    "    ['year_week', 'assortment']).sum().reset_index()\n",
    "aux2.pivot(index='year_week', columns='assortment', values='sales').plot(\n",
    "    ax=ax2, color=(blue, orange, green))\n",
    "\n",
    "# ---------------------------------------------------------------------------------------------------------------\n",
    "\n",
    "aux3 = aux2[aux2['assortment'] == 'extra']\n",
    "aux3.pivot(index='year_week', columns='assortment',\n",
    "           values='sales').plot(ax=ax4, color=green)\n",
    "\n",
    "# ---------------------------------------------------------------------------------------------------------------\n",
    "\n",
    "aux4 = aux2[aux2['assortment'] != 'extra']\n",
    "aux4.pivot(index='year_week', columns='assortment',\n",
    "           values='sales').plot(ax=ax3, color=(blue, orange));"
   ]
  },
  {
   "cell_type": "markdown",
   "metadata": {
    "ExecuteTime": {
     "end_time": "2021-01-15T18:03:55.035223Z",
     "start_time": "2021-01-15T18:03:55.032861Z"
    },
    "heading_collapsed": "true",
    "hidden": true,
    "tags": []
   },
   "source": [
    "### **H2.** Stores with closer competitors should sell less.\n",
    "**FALSE** Stores with CLOSER COMPETITORS sell MORE."
   ]
  },
  {
   "cell_type": "code",
   "execution_count": null,
   "metadata": {
    "ExecuteTime": {
     "end_time": "2021-02-12T23:22:30.135452Z",
     "start_time": "2021-02-12T23:22:29.401545Z"
    },
    "execution": {
     "iopub.status.busy": "2021-03-28T16:41:22.433064Z",
     "iopub.status.idle": "2021-03-28T16:41:22.433644Z",
     "shell.execute_reply": "2021-03-28T16:41:22.433356Z"
    },
    "hidden": true,
    "hide_input": false
   },
   "outputs": [],
   "source": [
    "fig_h2, ax = plt.subplots(figsize=figsize)\n",
    "\n",
    "sns.set_style('dark')\n",
    "aux1 = df4[['competition_distance', 'sales']].groupby(\n",
    "    'competition_distance').sum().reset_index()\n",
    "\n",
    "# ---------------------------------------------------------------------------------------------------------------\n",
    "\n",
    "\n",
    "bins = list(np.arange(0, 20000, 1000))\n",
    "\n",
    "aux1['competition_distance_binned'] = pd.cut(\n",
    "    aux1['competition_distance'], bins=bins)\n",
    "aux2 = aux1[['competition_distance_binned', 'sales']].groupby(\n",
    "    'competition_distance_binned').sum().reset_index()\n",
    "plt.xticks (rotation = 90)\n",
    "\n",
    "aux1_barplot = sns.barplot(\n",
    "    ax=ax, x='competition_distance_binned', y='sales', data=aux2);"
   ]
  },
  {
   "cell_type": "markdown",
   "metadata": {
    "ExecuteTime": {
     "end_time": "2021-01-15T18:05:06.527709Z",
     "start_time": "2021-01-15T18:05:06.525649Z"
    },
    "heading_collapsed": "true",
    "hidden": true,
    "tags": []
   },
   "source": [
    "### **H3.** Stores with long time competitors should sell more.\n",
    "**FALSE** Stores with LONG TIME COMPETITORS sell LESS."
   ]
  },
  {
   "cell_type": "code",
   "execution_count": null,
   "metadata": {
    "ExecuteTime": {
     "end_time": "2021-02-12T23:22:45.573058Z",
     "start_time": "2021-02-12T23:22:30.137075Z"
    },
    "execution": {
     "iopub.status.busy": "2021-03-28T16:41:22.434935Z",
     "iopub.status.idle": "2021-03-28T16:41:22.435472Z",
     "shell.execute_reply": "2021-03-28T16:41:22.435219Z"
    },
    "hidden": true
   },
   "outputs": [],
   "source": [
    "aux1 = df4[['promo_time_week', 'sales']].groupby(\n",
    "    'promo_time_week').sum().reset_index()\n",
    "\n",
    "fig_h3 = plt.figure(figsize=(25, 20))\n",
    "grid1 = gs.GridSpec(4, 1, fig_h3)\n",
    "\n",
    "# ---------------------------------------------------------------------------------------------------------------\n",
    "\n",
    "plt.subplot(grid1[0, 0])\n",
    "aux2 = aux1[aux1['promo_time_week'] > 0]  # promo extended\n",
    "sns.barplot(data = aux2, x='promo_time_week', y='sales', palette='pastel')\n",
    "plt.xticks(rotation=90)\n",
    "\n",
    "plt.subplot(grid1[1, 0])\n",
    "sns.regplot(data=aux2, x='promo_time_week', y='sales', color=red)\n",
    "\n",
    "# ---------------------------------------------------------------------------------------------------------------\n",
    "\n",
    "plt.subplot(grid1[2, 0])\n",
    "aux3 = aux1[aux1['promo_time_week'] < 0]  # promo regular\n",
    "sns.barplot(data=aux3, x='promo_time_week', y='sales', palette='pastel')\n",
    "plt.xticks(rotation=90)\n",
    "\n",
    "plt.subplot(grid1[3, 0])\n",
    "sns.regplot(data=aux3, x='promo_time_week', y='sales', color=yellow)\n",
    "\n",
    "# ---------------------------------------------------------------------------------------------------------------\n",
    "\n",
    "fig_h3b = plt.figure(figsize=(15, 10))\n",
    "grid2 = gs.GridSpec(1, 1, fig_h3b)\n",
    "plt.subplot(grid2[0, 0])\n",
    "sns.heatmap(aux1.corr(method='pearson'), linewidths=.5,\n",
    "           vmin=-1, vmax=1, annot=True, cmap=\"magma\")"
   ]
  },
  {
   "cell_type": "markdown",
   "metadata": {
    "heading_collapsed": "true",
    "hidden": true,
    "tags": []
   },
   "source": [
    "### **H4.** Stores with active promotions for longer should sell more.\n",
    "**FALSE** Stores with ACTIVE PROMOTIONS for longer sell LESS, after a certain time."
   ]
  },
  {
   "cell_type": "code",
   "execution_count": null,
   "metadata": {
    "ExecuteTime": {
     "end_time": "2021-02-12T23:23:01.508047Z",
     "start_time": "2021-02-12T23:22:45.575665Z"
    },
    "execution": {
     "iopub.status.busy": "2021-03-28T16:41:22.436581Z",
     "iopub.status.idle": "2021-03-28T16:41:22.437130Z",
     "shell.execute_reply": "2021-03-28T16:41:22.436887Z"
    },
    "hidden": true
   },
   "outputs": [],
   "source": [
    "aux1 = df4[['promo_time_week', 'sales']].groupby( 'promo_time_week').sum().reset_index()\n",
    "\n",
    "fig_h4 = plt.figure(figsize=(25, 20))\n",
    "grid3 = gs.GridSpec( 4, 1, fig_h4 )\n",
    "\n",
    "# ---------------------------------------------------------------------------------------------------------------\n",
    "\n",
    "plt.subplot( grid3[0,0] )\n",
    "aux2 = aux1[aux1['promo_time_week'] > 0] # promo extendido\n",
    "sns.barplot( data= aux2, x='promo_time_week', y='sales', palette='pastel');\n",
    "plt.xticks( rotation=90 );\n",
    "\n",
    "plt.subplot( grid3[1,0] )\n",
    "sns.regplot(data= aux2, x='promo_time_week', y='sales', color = orange);\n",
    "\n",
    "# ---------------------------------------------------------------------------------------------------------------\n",
    "\n",
    "plt.subplot( grid3[2,0] )\n",
    "aux3 = aux1[aux1['promo_time_week'] < 0] # promo regular\n",
    "sns.barplot(data=aux3, x='promo_time_week', y='sales', palette='pastel');\n",
    "plt.xticks( rotation=90 );\n",
    "\n",
    "plt.subplot( grid3[3,0] )\n",
    "sns.regplot( data=aux3, x='promo_time_week', y='sales', color = green);\n",
    "\n",
    "# ---------------------------------------------------------------------------------------------------------------\n",
    "fig_h4b = plt.figure(figsize=(15, 10))\n",
    "grid4 = gs.GridSpec(1, 1, fig_h4b)\n",
    "plt.subplot(grid4[0, 0])\n",
    "sns.heatmap(aux1.corr(method='pearson'), linewidths=.5,\n",
    "           vmin=-1, vmax=1, annot=True, cmap=\"magma\")"
   ]
  },
  {
   "cell_type": "markdown",
   "metadata": {
    "heading_collapsed": "true",
    "hidden": true,
    "tags": []
   },
   "source": [
    "### <s>**H5.** Stores with more days in promotion should sell more.</s>"
   ]
  },
  {
   "cell_type": "markdown",
   "metadata": {
    "hidden": true,
    "tags": []
   },
   "source": [
    "### **H6.** Stores with more active promotions should sell more.\n",
    "**FALSE** Stores with more ACTIVE PROMOTIONS sell LESS."
   ]
  },
  {
   "cell_type": "code",
   "execution_count": null,
   "metadata": {
    "ExecuteTime": {
     "end_time": "2021-02-12T23:23:02.363677Z",
     "start_time": "2021-02-12T23:23:01.509854Z"
    },
    "execution": {
     "iopub.status.busy": "2021-03-28T16:41:22.438255Z",
     "iopub.status.idle": "2021-03-28T16:41:22.438778Z",
     "shell.execute_reply": "2021-03-28T16:41:22.438539Z"
    },
    "hidden": true
   },
   "outputs": [],
   "source": [
    "df4[['promo', 'promo2', 'sales']].groupby( ['promo', 'promo2'] ).sum().reset_index()\n",
    "\n",
    "fig_h6, (ax) = plt.subplots(1, 1, figsize=figsize)\n",
    "\n",
    "# ---------------------------------------------------------------------------------------------------------------\n",
    "\n",
    "aux1 = df4[( df4['promo'] == 1 ) & ( df4['promo2'] == 1 )][['year_week', 'sales']].groupby( 'year_week' ).sum().reset_index()\n",
    "aux1.plot(ax=ax, color=blue)\n",
    "\n",
    "# ---------------------------------------------------------------------------------------------------------------\n",
    "\n",
    "aux2 = df4[( df4['promo'] == 1 ) & ( df4['promo2'] == 0 )][['year_week', 'sales']].groupby( 'year_week' ).sum().reset_index()\n",
    "aux2.plot( ax=ax, color=orange )\n",
    "ax.legend( labels=['Traditional and extended', 'extended']);"
   ]
  },
  {
   "cell_type": "markdown",
   "metadata": {
    "heading_collapsed": "true",
    "hidden": true,
    "tags": []
   },
   "source": [
    "### **H7.** Stores open during christmas should sell more.\n",
    "**FALSE** Stores OPEN DURING CHRISTMAS sell LESS."
   ]
  },
  {
   "cell_type": "code",
   "execution_count": null,
   "metadata": {
    "ExecuteTime": {
     "end_time": "2021-02-12T23:23:03.178255Z",
     "start_time": "2021-02-12T23:23:02.365517Z"
    },
    "execution": {
     "iopub.status.busy": "2021-03-28T16:41:22.439870Z",
     "iopub.status.idle": "2021-03-28T16:41:22.440611Z",
     "shell.execute_reply": "2021-03-28T16:41:22.440268Z"
    },
    "hidden": true
   },
   "outputs": [],
   "source": [
    "aux = df4[df4['state_holiday'] != 'regular_day']\n",
    "\n",
    "fig_h7, (ax1, ax2) = plt.subplots(1, 2, figsize = figsize)\n",
    "sns.set_style('dark')\n",
    "\n",
    "# ---------------------------------------------------------------------------------------------------------------\n",
    "\n",
    "aux1 = aux[['state_holiday', 'sales']].groupby( 'state_holiday' ).sum().reset_index()\n",
    "sns.barplot(ax=ax1, data=aux1, x='state_holiday', y='sales', palette='pastel');\n",
    "\n",
    "# ---------------------------------------------------------------------------------------------------------------\n",
    "\n",
    "aux2 = aux[['year', 'state_holiday', 'sales']].groupby( ['year', 'state_holiday'] ).sum().reset_index()\n",
    "sns.barplot(ax=ax2,data=aux2, x='year', y='sales', hue='state_holiday', palette='pastel');"
   ]
  },
  {
   "cell_type": "markdown",
   "metadata": {
    "heading_collapsed": "true",
    "hidden": true,
    "tags": []
   },
   "source": [
    "### **H8.** Stores should sell more over the years.\n",
    "**FALSE** Stores sell LESS OVER THE YEARS."
   ]
  },
  {
   "cell_type": "code",
   "execution_count": null,
   "metadata": {
    "ExecuteTime": {
     "end_time": "2021-02-12T23:23:04.737266Z",
     "start_time": "2021-02-12T23:23:03.180744Z"
    },
    "execution": {
     "iopub.status.busy": "2021-03-28T16:41:22.442468Z",
     "iopub.status.idle": "2021-03-28T16:41:22.443293Z",
     "shell.execute_reply": "2021-03-28T16:41:22.442925Z"
    },
    "hidden": true
   },
   "outputs": [],
   "source": [
    "aux1 = df4[['year', 'sales']].groupby( 'year' ).sum().reset_index()\n",
    "\n",
    "fig_h8 = plt.figure(figsize=(15, 20))\n",
    "grid5 = gs.GridSpec(2, 2, fig_h8)\n",
    "\n",
    "# ---------------------------------------------------------------------------------------------------------------\n",
    "\n",
    "plt.subplot(grid5[0, 0])\n",
    "sns.barplot(data=aux1, x='year', y='sales', palette='pastel');\n",
    "\n",
    "plt.subplot(grid5[0, 1])\n",
    "sns.regplot( data=aux1, x='year', y='sales', color=gray );\n",
    "\n",
    "# ---------------------------------------------------------------------------------------------------------------\n",
    "\n",
    "fig_h8b = plt.figure(figsize=(15, 12))\n",
    "grid6 = gs.GridSpec(1, 1, fig_h8b)\n",
    "plt.subplot(grid5[0, 0])\n",
    "sns.heatmap( aux1.corr( method='pearson' ), linewidths=.5,\n",
    "           vmin=-1, vmax=1, annot=True, cmap=\"magma\");"
   ]
  },
  {
   "cell_type": "markdown",
   "metadata": {
    "heading_collapsed": "true",
    "hidden": true,
    "tags": []
   },
   "source": [
    "### **H9.** Stores should sell more in the second half of the year.\n",
    "**FALSE** Stores sell LESS in the SECOND HALF OF THE YEAR."
   ]
  },
  {
   "cell_type": "code",
   "execution_count": null,
   "metadata": {
    "ExecuteTime": {
     "end_time": "2021-02-12T23:23:06.349393Z",
     "start_time": "2021-02-12T23:23:04.739468Z"
    },
    "execution": {
     "iopub.status.busy": "2021-03-28T16:41:22.444399Z",
     "iopub.status.idle": "2021-03-28T16:41:22.444880Z",
     "shell.execute_reply": "2021-03-28T16:41:22.444656Z"
    },
    "hidden": true
   },
   "outputs": [],
   "source": [
    "aux1 = df4[['month', 'sales']].groupby( 'month' ).sum().reset_index()\n",
    "\n",
    "fig_h9 = plt.figure(figsize=(15, 20))\n",
    "grid7 = gs.GridSpec(2, 2, fig_h9)\n",
    "\n",
    "# ---------------------------------------------------------------------------------------------------------------\n",
    "\n",
    "plt.subplot(grid7[0, 0])\n",
    "sns.barplot(data=aux1, x='month', y='sales', palette='pastel' );\n",
    "\n",
    "plt.subplot(grid7[0, 1])\n",
    "sns.regplot(data=aux1, x='month', y='sales', color=brown );\n",
    "\n",
    "# ---------------------------------------------------------------------------------------------------------------\n",
    "\n",
    "fig_h9b = plt.figure(figsize=(15, 12))\n",
    "grid8 = gs.GridSpec(1, 1, fig_h9b)\n",
    "plt.subplot(grid8[0, 0])\n",
    "sns.heatmap( aux1.corr( method='pearson' ), linewidths=.5,\n",
    "           vmin=-1, vmax=1, annot=True, cmap=\"magma\");"
   ]
  },
  {
   "cell_type": "markdown",
   "metadata": {
    "ExecuteTime": {
     "end_time": "2021-02-02T18:00:23.994731Z",
     "start_time": "2021-02-02T18:00:23.991408Z"
    },
    "heading_collapsed": "true",
    "hidden": true,
    "tags": []
   },
   "source": [
    "### **H10.** Stores should sell more after the 10th of each month.\n",
    "**TRUE** Stores sell more after the 10th of each month."
   ]
  },
  {
   "cell_type": "code",
   "execution_count": null,
   "metadata": {
    "ExecuteTime": {
     "end_time": "2021-02-12T23:23:08.339442Z",
     "start_time": "2021-02-12T23:23:06.353690Z"
    },
    "execution": {
     "iopub.status.busy": "2021-03-28T16:41:22.445858Z",
     "iopub.status.idle": "2021-03-28T16:41:22.446297Z",
     "shell.execute_reply": "2021-03-28T16:41:22.446079Z"
    },
    "hidden": true
   },
   "outputs": [],
   "source": [
    "fig_h10, axes = plt.subplots(2, 2, figsize=(20, 15))\n",
    "sns.set_style('dark')\n",
    "\n",
    "# ---------------------------------------------------------------------------------------------------------------\n",
    "\n",
    "aux1 = df4[['day', 'sales']].groupby( 'day' ).sum().reset_index()\n",
    "\n",
    "\n",
    "sns.barplot( ax=axes[0, 0], data=aux1, x='day', y='sales', palette='pastel' );\n",
    "\n",
    "sns.regplot( ax=axes[0, 1], data=aux1, x='day', y='sales', color=purple );\n",
    "\n",
    "sns.heatmap(aux1.corr( method='pearson' ), linewidths=.5,\n",
    "          vmin=-1, vmax=1, annot=True, cmap=\"magma\",  ax=axes[1, 0]);\n",
    "\n",
    "# ---------------------------------------------------------------------------------------------------------------\n",
    "\n",
    "\n",
    "aux1['before_after'] = aux1['day'].apply( lambda x: 'before_10_days' \n",
    "                                         if x <= 10 \n",
    "                                         else 'after_10_days' )\n",
    "\n",
    "aux2 =aux1[['before_after', 'sales']].groupby( 'before_after' ).sum().reset_index()\n",
    "\n",
    "\n",
    "sns.barplot( ax=axes[1, 1], data=aux2, x='before_after', y='sales' );"
   ]
  },
  {
   "cell_type": "markdown",
   "metadata": {
    "heading_collapsed": "true",
    "hidden": true,
    "tags": []
   },
   "source": [
    "### **H11.** Stores should sell less on weekends. \n",
    "**TRUE** Stores should sell less on weekends. "
   ]
  },
  {
   "cell_type": "code",
   "execution_count": null,
   "metadata": {
    "ExecuteTime": {
     "end_time": "2021-02-12T23:23:09.891003Z",
     "start_time": "2021-02-12T23:23:08.342915Z"
    },
    "execution": {
     "iopub.status.busy": "2021-03-28T16:41:22.447208Z",
     "iopub.status.idle": "2021-03-28T16:41:22.447706Z",
     "shell.execute_reply": "2021-03-28T16:41:22.447444Z"
    },
    "hidden": true
   },
   "outputs": [],
   "source": [
    "aux1 = df4[['day_of_week', 'sales']].groupby( 'day_of_week' ).sum().reset_index()\n",
    "\n",
    "\n",
    "fig_h11 = plt.figure(figsize=(15, 20))\n",
    "grid9 = gs.GridSpec(2, 2, fig_h11)\n",
    "\n",
    "# ---------------------------------------------------------------------------------------------------------------\n",
    "\n",
    "plt.subplot(grid9[0, 0])\n",
    "sns.barplot(data=aux1, x='day_of_week', y='sales', palette='pastel' );\n",
    "\n",
    "plt.subplot(grid9[0, 1])\n",
    "sns.regplot( data=aux1, x='day_of_week', y='sales', color=blue);\n",
    "\n",
    "# ---------------------------------------------------------------------------------------------------------------\n",
    "\n",
    "fig_h11b = plt.figure(figsize=(15, 12))\n",
    "grid10 = gs.GridSpec(1, 1, fig_h11b)\n",
    "plt.subplot(grid10[0, 0])\n",
    "sns.heatmap( aux1.corr( method='pearson' ), linewidths=.5,\n",
    "           vmin=-1, vmax=1, annot=True, cmap=\"magma\");"
   ]
  },
  {
   "cell_type": "markdown",
   "metadata": {
    "heading_collapsed": "true",
    "hidden": true,
    "tags": []
   },
   "source": [
    "### **H12.** Stores should sell less during school holidays.\n",
    "**TRUE** Stores sell less during school holidays, except on July e August."
   ]
  },
  {
   "cell_type": "code",
   "execution_count": null,
   "metadata": {
    "ExecuteTime": {
     "end_time": "2021-02-12T23:23:11.075166Z",
     "start_time": "2021-02-12T23:23:09.893458Z"
    },
    "execution": {
     "iopub.status.busy": "2021-03-28T16:41:22.448849Z",
     "iopub.status.idle": "2021-03-28T16:41:22.449425Z",
     "shell.execute_reply": "2021-03-28T16:41:22.449134Z"
    },
    "hidden": true
   },
   "outputs": [],
   "source": [
    "fig_h12, (ax1, ax2) = plt.subplots(1, 2, figsize = figsize)\n",
    "sns.set_style('dark')\n",
    "\n",
    "# ---------------------------------------------------------------------------------------------------------------\n",
    "\n",
    "aux1 = df4[['school_holiday', 'sales']].groupby( 'school_holiday' ).sum().reset_index()\n",
    "sns.barplot( ax=ax1, data=aux1, x='school_holiday', y='sales', palette='pastel' );\n",
    "\n",
    "# ---------------------------------------------------------------------------------------------------------------\n",
    "\n",
    "aux2 = df4[['month', 'school_holiday', 'sales']].groupby( ['month','school_holiday'] ).sum().reset_index()\n",
    "sns.barplot( ax=ax2, data= aux2, x='month', y='sales', hue='school_holiday', palette='pastel' );"
   ]
  },
  {
   "cell_type": "markdown",
   "metadata": {
    "heading_collapsed": "true",
    "hidden": true,
    "tags": []
   },
   "source": [
    "### 4.2.1 Hypothesis resume"
   ]
  },
  {
   "cell_type": "code",
   "execution_count": null,
   "metadata": {
    "ExecuteTime": {
     "end_time": "2021-02-12T23:23:11.091750Z",
     "start_time": "2021-02-12T23:23:11.077539Z"
    },
    "execution": {
     "iopub.status.busy": "2021-03-28T16:41:22.450595Z",
     "iopub.status.idle": "2021-03-28T16:41:22.451099Z",
     "shell.execute_reply": "2021-03-28T16:41:22.450869Z"
    },
    "hidden": true
   },
   "outputs": [],
   "source": [
    "resume = [\n",
    "    ['Hipoteses', 'Conclusao', 'Relevancia'],\n",
    "    ['H1', 'Falsa', 'Baixa'],\n",
    "    ['H2', 'Falsa', 'Media'],\n",
    "    ['H3', 'Falsa', 'Media'],\n",
    "    ['H4', 'Falsa', 'Baixa'],\n",
    "    ['H5', '-', '-'],\n",
    "    ['H7', 'Falsa', 'Baixa'],\n",
    "    ['H8', 'Falsa', 'Media'],\n",
    "    ['H9', 'Falsa', 'Alta'],\n",
    "    ['H10', 'Falsa', 'Alta'],\n",
    "    ['H11', 'Verdadeira', 'Alta'],\n",
    "    ['H12', 'Verdadeira', 'Alta'],\n",
    "    ['H13', 'Verdadeira', 'Baixa'],\n",
    "]\n",
    "print(tabulate(resume, headers='firstrow'))"
   ]
  },
  {
   "cell_type": "code",
   "execution_count": null,
   "metadata": {
    "hidden": true
   },
   "outputs": [],
   "source": []
  },
  {
   "cell_type": "markdown",
   "metadata": {
    "ExecuteTime": {
     "end_time": "2021-01-13T18:49:11.237989Z",
     "start_time": "2021-01-13T18:49:11.235824Z"
    },
    "heading_collapsed": "true",
    "hidden": true,
    "tags": []
   },
   "source": [
    "## 4.3 Multivariate analysis"
   ]
  },
  {
   "cell_type": "markdown",
   "metadata": {
    "heading_collapsed": true,
    "hidden": true
   },
   "source": [
    "### 4.3.1 Numerical attributes"
   ]
  },
  {
   "cell_type": "code",
   "execution_count": null,
   "metadata": {
    "ExecuteTime": {
     "end_time": "2021-02-12T23:23:13.373285Z",
     "start_time": "2021-02-12T23:23:11.094067Z"
    },
    "execution": {
     "iopub.status.busy": "2021-03-28T16:41:22.452148Z",
     "iopub.status.idle": "2021-03-28T16:41:22.452626Z",
     "shell.execute_reply": "2021-03-28T16:41:22.452390Z"
    },
    "hidden": true
   },
   "outputs": [],
   "source": [
    "plt.figure(figsize=figsize)\n",
    "correlation = num_attributes.corr(method='pearson')\n",
    "heatmap_num = sns.heatmap(correlation, linewidths=.5,\n",
    "                          vmin=-1, vmax=1, annot=True, cmap=\"magma\")"
   ]
  },
  {
   "cell_type": "markdown",
   "metadata": {
    "heading_collapsed": true,
    "hidden": true
   },
   "source": [
    "### 4.3.2 Categorical attributes"
   ]
  },
  {
   "cell_type": "code",
   "execution_count": null,
   "metadata": {
    "ExecuteTime": {
     "end_time": "2021-02-12T23:23:15.294599Z",
     "start_time": "2021-02-12T23:23:13.375137Z"
    },
    "execution": {
     "iopub.status.busy": "2021-03-28T16:41:22.454017Z",
     "iopub.status.idle": "2021-03-28T16:41:22.454821Z",
     "shell.execute_reply": "2021-03-28T16:41:22.454415Z"
    },
    "hidden": true
   },
   "outputs": [],
   "source": [
    "# only categorical data\n",
    "c = df4.select_dtypes(include='object')\n",
    "\n",
    "# Cramer's V calculation\n",
    "c1 = cramers_v(c['state_holiday'], c['state_holiday'])\n",
    "c2 = cramers_v(c['state_holiday'], c['store_type'])\n",
    "c3 = cramers_v(c['state_holiday'], c['assortment'])\n",
    "\n",
    "c4 = cramers_v(c['store_type'], c['state_holiday'])\n",
    "c5 = cramers_v(c['store_type'], c['store_type'])\n",
    "c6 = cramers_v(c['store_type'], c['assortment'])\n",
    "\n",
    "c7 = cramers_v(c['assortment'], c['state_holiday'])\n",
    "c8 = cramers_v(c['assortment'], c['store_type'])\n",
    "c9 = cramers_v(c['assortment'], c['assortment'])\n",
    "\n",
    "# Final dataset\n",
    "d = pd.DataFrame({'state_holiday': [c1, c2, c3], 'store_type': [\n",
    "                 c4, c5, c6], 'assortment': [c7, c8, c9]})\n",
    "d = d.set_index(d.columns)\n",
    "\n",
    "plt.figure(figsize=figsize)\n",
    "sns.heatmap(d, linewidths=.5, vmin=0, vmax=1, annot=True, cmap=\"magma\")"
   ]
  },
  {
   "cell_type": "markdown",
   "metadata": {
    "tags": []
   },
   "source": [
    "# 5.0 DATA PREPARATION"
   ]
  },
  {
   "cell_type": "markdown",
   "metadata": {
    "heading_collapsed": "true",
    "hidden": true,
    "tags": []
   },
   "source": [
    "## 5.0.1 Dataset copy"
   ]
  },
  {
   "cell_type": "code",
   "execution_count": null,
   "metadata": {
    "ExecuteTime": {
     "end_time": "2021-02-12T23:23:15.366975Z",
     "start_time": "2021-02-12T23:23:15.296567Z"
    },
    "execution": {
     "iopub.status.busy": "2021-03-28T16:41:22.456158Z",
     "iopub.status.idle": "2021-03-28T16:41:22.456711Z",
     "shell.execute_reply": "2021-03-28T16:41:22.456438Z"
    },
    "hidden": true
   },
   "outputs": [],
   "source": [
    "df5 = df4.copy()"
   ]
  },
  {
   "cell_type": "markdown",
   "metadata": {
    "heading_collapsed": "true",
    "hidden": true,
    "tags": []
   },
   "source": [
    "## 5.1 Normatilization"
   ]
  },
  {
   "cell_type": "markdown",
   "metadata": {
    "hidden": true,
    "tags": []
   },
   "source": [
    "## 5.2 Rescaling"
   ]
  },
  {
   "cell_type": "code",
   "execution_count": null,
   "metadata": {
    "ExecuteTime": {
     "end_time": "2021-02-12T23:23:15.596862Z",
     "start_time": "2021-02-12T23:23:15.369433Z"
    },
    "execution": {
     "iopub.status.busy": "2021-03-28T16:41:22.458526Z",
     "iopub.status.idle": "2021-03-28T16:41:22.459109Z",
     "shell.execute_reply": "2021-03-28T16:41:22.458857Z"
    },
    "hidden": true
   },
   "outputs": [],
   "source": [
    "rs = RobustScaler()\n",
    "mms = MinMaxScaler()\n",
    "\n",
    "# competition distance\n",
    "df5['competition_distance'] = rs.fit_transform(\n",
    "    df5[['competition_distance']].values)\n",
    "\n",
    "# competition time month\n",
    "df5['competition_time_month'] = rs.fit_transform(\n",
    "    df5[['competition_time_month']].values)\n",
    "\n",
    "# promo time week\n",
    "df5['promo_time_week'] = mms.fit_transform(df5[['promo_time_week']].values)\n",
    "\n",
    "# year\n",
    "df5['year'] = mms.fit_transform(df5[['year']].values)"
   ]
  },
  {
   "cell_type": "markdown",
   "metadata": {
    "hidden": true,
    "tags": []
   },
   "source": [
    "## 5.3 Transformation"
   ]
  },
  {
   "cell_type": "markdown",
   "metadata": {
    "hidden": true,
    "tags": []
   },
   "source": [
    "### 5.3.1 Encoding"
   ]
  },
  {
   "cell_type": "code",
   "execution_count": null,
   "metadata": {
    "ExecuteTime": {
     "end_time": "2021-02-12T23:23:16.008905Z",
     "start_time": "2021-02-12T23:23:15.599673Z"
    },
    "execution": {
     "iopub.status.busy": "2021-03-28T16:41:22.460181Z",
     "iopub.status.idle": "2021-03-28T16:41:22.460647Z",
     "shell.execute_reply": "2021-03-28T16:41:22.460420Z"
    },
    "hidden": true
   },
   "outputs": [],
   "source": [
    "# state_holiday - One Hot Encoding\n",
    "df5 = pd.get_dummies(df5, prefix=['state_holiday'], columns=['state_holiday'])\n",
    "\n",
    "# store_type - Label Encoding\n",
    "le = LabelEncoder()\n",
    "df5['store_type'] = le.fit_transform(df5['store_type'])\n",
    "\n",
    "# assortment - Ordinal Encoding\n",
    "assortment_dict = {'basic': 1,  'extra': 2, 'extended': 3}\n",
    "df5['assortment'] = df5['assortment'].map(assortment_dict)"
   ]
  },
  {
   "cell_type": "markdown",
   "metadata": {
    "hidden": true,
    "tags": []
   },
   "source": [
    "### 5.3.2 Response variable transformation"
   ]
  },
  {
   "cell_type": "code",
   "execution_count": null,
   "metadata": {
    "ExecuteTime": {
     "end_time": "2021-02-12T23:23:16.030957Z",
     "start_time": "2021-02-12T23:23:16.010344Z"
    },
    "execution": {
     "iopub.status.busy": "2021-03-28T16:41:22.461759Z",
     "iopub.status.idle": "2021-03-28T16:41:22.462211Z",
     "shell.execute_reply": "2021-03-28T16:41:22.461990Z"
    },
    "hidden": true
   },
   "outputs": [],
   "source": [
    "df5['sales'] = np.log1p(df5['sales'])"
   ]
  },
  {
   "cell_type": "markdown",
   "metadata": {
    "hidden": true,
    "tags": []
   },
   "source": [
    "### 5.3.3 Nature Transformation"
   ]
  },
  {
   "cell_type": "code",
   "execution_count": null,
   "metadata": {
    "ExecuteTime": {
     "end_time": "2021-02-12T23:23:26.198816Z",
     "start_time": "2021-02-12T23:23:16.033007Z"
    },
    "execution": {
     "iopub.status.busy": "2021-03-28T16:41:22.463222Z",
     "iopub.status.idle": "2021-03-28T16:41:22.464015Z",
     "shell.execute_reply": "2021-03-28T16:41:22.463631Z"
    },
    "hidden": true
   },
   "outputs": [],
   "source": [
    "# day of week\n",
    "df5['day_of_week_sin'] = df5['day_of_week'].apply(\n",
    "    lambda x: np.sin(x * (2. * np.pi/7)))\n",
    "df5['day_of_week_cos'] = df5['day_of_week'].apply(\n",
    "    lambda x: np.cos(x * (2. * np.pi/7)))\n",
    "\n",
    "# month\n",
    "df5['month_sin'] = df5['month'].apply(lambda x: np.sin(x * (2. * np.pi/12)))\n",
    "df5['month_cos'] = df5['month'].apply(lambda x: np.cos(x * (2. * np.pi/12)))\n",
    "\n",
    "# day\n",
    "df5['day_sin'] = df5['day'].apply(lambda x: np.sin(x * (2. * np.pi/30)))\n",
    "df5['day_cos'] = df5['day'].apply(lambda x: np.cos(x * (2. * np.pi/30)))\n",
    "\n",
    "# week of year\n",
    "df5['week_of_year_sin'] = df5['week_of_year'].apply(\n",
    "    lambda x: np.sin(x * (2. * np.pi/52)))\n",
    "df5['week_of_year_cos'] = df5['week_of_year'].apply(\n",
    "    lambda x: np.cos(x * (2. * np.pi/52)))"
   ]
  },
  {
   "cell_type": "markdown",
   "metadata": {
    "tags": []
   },
   "source": [
    "# 6.0 FEATURE SELECTIONFeature Selection"
   ]
  },
  {
   "cell_type": "markdown",
   "metadata": {
    "heading_collapsed": "true",
    "tags": []
   },
   "source": [
    "## 6.1 Dataset Copy"
   ]
  },
  {
   "cell_type": "code",
   "execution_count": null,
   "metadata": {
    "ExecuteTime": {
     "end_time": "2021-02-12T23:23:26.410936Z",
     "start_time": "2021-02-12T23:23:26.200580Z"
    },
    "execution": {
     "iopub.status.busy": "2021-03-28T16:41:22.465383Z",
     "iopub.status.idle": "2021-03-28T16:41:22.466129Z",
     "shell.execute_reply": "2021-03-28T16:41:22.465823Z"
    },
    "hidden": true
   },
   "outputs": [],
   "source": [
    "df6 = df5.copy()"
   ]
  },
  {
   "cell_type": "markdown",
   "metadata": {
    "heading_collapsed": "true",
    "tags": []
   },
   "source": [
    "## 6.2 Split DF into training and test dataset"
   ]
  },
  {
   "cell_type": "code",
   "execution_count": null,
   "metadata": {
    "ExecuteTime": {
     "end_time": "2021-02-12T23:23:26.446636Z",
     "start_time": "2021-02-12T23:23:26.413575Z"
    },
    "execution": {
     "iopub.status.busy": "2021-03-28T16:41:22.467250Z",
     "iopub.status.idle": "2021-03-28T16:41:22.467734Z",
     "shell.execute_reply": "2021-03-28T16:41:22.467504Z"
    }
   },
   "outputs": [],
   "source": [
    "df6.head()"
   ]
  },
  {
   "cell_type": "code",
   "execution_count": null,
   "metadata": {
    "ExecuteTime": {
     "end_time": "2021-02-12T23:23:26.526124Z",
     "start_time": "2021-02-12T23:23:26.450008Z"
    },
    "execution": {
     "iopub.status.busy": "2021-03-28T16:41:22.468799Z",
     "iopub.status.idle": "2021-03-28T16:41:22.469302Z",
     "shell.execute_reply": "2021-03-28T16:41:22.469032Z"
    }
   },
   "outputs": [],
   "source": [
    "cols_drop = ['week_of_year', 'day', 'month', 'day_of_week', 'promo_since', 'competition_since', 'year_week']\n",
    "df6 = df6.drop(cols_drop, axis = 1)"
   ]
  },
  {
   "cell_type": "code",
   "execution_count": null,
   "metadata": {
    "ExecuteTime": {
     "end_time": "2021-02-12T23:23:26.593571Z",
     "start_time": "2021-02-12T23:23:26.529295Z"
    },
    "execution": {
     "iopub.status.busy": "2021-03-28T16:41:22.470526Z",
     "iopub.status.idle": "2021-03-28T16:41:22.470998Z",
     "shell.execute_reply": "2021-03-28T16:41:22.470776Z"
    }
   },
   "outputs": [],
   "source": [
    "# Using the last 6 weeks in the dataset to use as test\n",
    "df6[['store', 'date']].groupby('store').max().reset_index()['date'][0] - datetime.timedelta(days = 6*7)"
   ]
  },
  {
   "cell_type": "code",
   "execution_count": null,
   "metadata": {
    "ExecuteTime": {
     "end_time": "2021-02-12T23:23:26.729202Z",
     "start_time": "2021-02-12T23:23:26.596433Z"
    },
    "execution": {
     "iopub.status.busy": "2021-03-28T16:41:22.472597Z",
     "iopub.status.idle": "2021-03-28T16:41:22.474422Z",
     "shell.execute_reply": "2021-03-28T16:41:22.473031Z"
    },
    "tags": []
   },
   "outputs": [],
   "source": [
    "#train data\n",
    "X_train = df6[df6['date'] < '2015-06-19']\n",
    "y_train = X_train['sales']\n",
    "\n",
    "# test dataset\n",
    "X_test = df6[df6['date'] > '2015-06-19']\n",
    "y_test = X_test['sales']\n",
    "\n",
    "print( 'Training Min Date: {}'.format( X_train['date'].min() ) )\n",
    "print( 'Training Max Date: {}'.format( X_train['date'].max() ) )\n",
    "\n",
    "print( '\\nTest Min Date: {}'.format( X_test['date'].min() ) )\n",
    "print( 'Test Max Date: {}'.format( X_test['date'].max() ) )"
   ]
  },
  {
   "cell_type": "markdown",
   "metadata": {
    "ExecuteTime": {
     "end_time": "2021-02-12T21:05:11.378194Z",
     "start_time": "2021-02-12T21:05:11.375721Z"
    },
    "tags": []
   },
   "source": [
    "## 6.3 Boruta as feature selector"
   ]
  },
  {
   "cell_type": "code",
   "execution_count": null,
   "metadata": {
    "ExecuteTime": {
     "end_time": "2021-02-13T00:29:37.061731Z",
     "start_time": "2021-02-12T23:23:26.731853Z"
    },
    "execution": {
     "iopub.status.busy": "2021-03-28T16:41:22.477461Z",
     "iopub.status.idle": "2021-03-28T16:41:22.478435Z",
     "shell.execute_reply": "2021-03-28T16:41:22.478046Z"
    },
    "tags": []
   },
   "outputs": [],
   "source": [
    "\"\"\"\n",
    "# *This phase took 1h to be done, to reduce the code execution time, this part of the code is commented*\n",
    "\n",
    "# training and test dataset for Boruta\n",
    "X_train_n = X_train.drop(['date', 'sales'], axis = 1).values\n",
    "y_train_n = y_train.values.ravel()\n",
    "\n",
    "# define RandomForestRegressor\n",
    "rf = RandomForestRegressor(n_jobs = -1)\n",
    "\n",
    "# define boruta\n",
    "boruta = BorutaPy (rf, n_estimators='auto', verbose=2, random_state=42).fit(X_train_n, y_train_n)\n",
    "\n",
    "\"\"\""
   ]
  },
  {
   "cell_type": "markdown",
   "metadata": {
    "tags": []
   },
   "source": [
    "### 6.3.1 Best features from Boruta"
   ]
  },
  {
   "cell_type": "code",
   "execution_count": null,
   "metadata": {
    "execution": {
     "iopub.status.busy": "2021-03-28T16:41:22.480165Z",
     "iopub.status.idle": "2021-03-28T16:41:22.480793Z",
     "shell.execute_reply": "2021-03-28T16:41:22.480493Z"
    },
    "tags": []
   },
   "outputs": [],
   "source": [
    "\"\"\"\n",
    "cols_selected = boruta.support_.tolist()\n",
    "\n",
    "# best features\n",
    "x_train_fs = x_train.drop(['date', 'sales'], axis = 1)\n",
    "cols_selected_boruta = x_train_fs.iloc[:, cols_selected].columns.to_list()\n",
    "\n",
    "# not selected boruta\n",
    "cols_not_selected_boruta = list(np.setdiff1d(x_train_fs.columns,cols_selected_boruta))\n",
    "\"\"\""
   ]
  },
  {
   "cell_type": "code",
   "execution_count": null,
   "metadata": {
    "execution": {
     "iopub.status.busy": "2021-03-28T16:41:22.482188Z",
     "iopub.status.idle": "2021-03-28T16:41:22.482679Z",
     "shell.execute_reply": "2021-03-28T16:41:22.482449Z"
    },
    "tags": []
   },
   "outputs": [],
   "source": [
    "# cols_selected_boruta"
   ]
  },
  {
   "cell_type": "code",
   "execution_count": null,
   "metadata": {
    "execution": {
     "iopub.status.busy": "2021-03-28T16:41:22.484021Z",
     "iopub.status.idle": "2021-03-28T16:41:22.484495Z",
     "shell.execute_reply": "2021-03-28T16:41:22.484267Z"
    },
    "tags": []
   },
   "outputs": [],
   "source": [
    " # cols_not_selected_boruta"
   ]
  },
  {
   "cell_type": "markdown",
   "metadata": {
    "tags": []
   },
   "source": [
    "### 6.4 Manual feature selection"
   ]
  },
  {
   "cell_type": "code",
   "execution_count": null,
   "metadata": {
    "execution": {
     "iopub.status.busy": "2021-03-28T16:41:22.485510Z",
     "iopub.status.idle": "2021-03-28T16:41:22.486014Z",
     "shell.execute_reply": "2021-03-28T16:41:22.485778Z"
    },
    "tags": []
   },
   "outputs": [],
   "source": [
    "cols_selected = [\n",
    "    'store',\n",
    "    'promo',\n",
    "    'store_type',\n",
    "    'assortment',\n",
    "    'competition_distance',\n",
    "    'competition_open_since_month',\n",
    "    'competition_open_since_year',\n",
    "    'promo2',\n",
    "    'promo2_since_week',\n",
    "    'promo2_since_year',\n",
    "    'competition_time_month',\n",
    "    'promo_time_week',\n",
    "    'day_of_week_sin',\n",
    "    'day_of_week_cos',\n",
    "    'month_sin',\n",
    "    'month_cos',\n",
    "    'day_sin',\n",
    "    'day_cos',\n",
    "    'week_of_year_sin',\n",
    "    'week_of_year_cos'\n",
    "]\n",
    "\n",
    "# columns to add\n",
    "add_important_features = ['date', 'sales']\n",
    "\n",
    "# cols_selected extended\n",
    "cols_selected_full = cols_selected.copy()\n",
    "cols_selected_full.extend(add_important_features)\n",
    "\n",
    "# ----------------------------------------------------------------------------------------------------\n",
    "\n",
    "cols_not_selected = [\n",
    "    'is_promo',\n",
    "    'school_holiday',\n",
    "    'state_holiday_christmas',\n",
    "    'state_holiday_easter_holiday',\n",
    "    'state_holiday_public_holiday',\n",
    "    'state_holiday_regular_day',\n",
    "    'year'\n",
    "]"
   ]
  },
  {
   "cell_type": "markdown",
   "metadata": {
    "tags": []
   },
   "source": [
    "# 7.0  MACHINE LEARNING"
   ]
  },
  {
   "cell_type": "markdown",
   "metadata": {
    "heading_collapsed": "true",
    "tags": []
   },
   "source": [
    "### 7.0.1 Train and test\n"
   ]
  },
  {
   "cell_type": "code",
   "execution_count": null,
   "metadata": {
    "execution": {
     "iopub.status.busy": "2021-03-28T16:41:22.487065Z",
     "iopub.status.idle": "2021-03-28T16:41:22.487504Z",
     "shell.execute_reply": "2021-03-28T16:41:22.487288Z"
    },
    "tags": []
   },
   "outputs": [],
   "source": [
    "x_train = X_train[cols_selected]\n",
    "x_test = X_test[cols_selected]\n",
    "\n",
    "# Time Series data preparation\n",
    "x_training = X_train[cols_selected_full]"
   ]
  },
  {
   "cell_type": "markdown",
   "metadata": {
    "heading_collapsed": "true",
    "tags": []
   },
   "source": [
    "### 7.1 Average model"
   ]
  },
  {
   "cell_type": "code",
   "execution_count": null,
   "metadata": {
    "execution": {
     "iopub.status.busy": "2021-03-28T16:41:22.488561Z",
     "iopub.status.idle": "2021-03-28T16:41:22.489139Z",
     "shell.execute_reply": "2021-03-28T16:41:22.488873Z"
    },
    "tags": []
   },
   "outputs": [],
   "source": [
    "# model\n",
    "\n",
    "aux1 = x_test.copy()\n",
    "aux1['sales'] = y_test.copy()\n",
    "\n",
    "# prediction\n",
    "aux2 = aux1[['store', 'sales']].groupby( 'store' ).mean().reset_index().rename( columns={'sales': 'predictions'} )\n",
    "aux1 = pd.merge( aux1, aux2, how='left', on='store' )\n",
    "yhat_baseline = aux1['predictions']\n",
    "\n",
    "\n",
    "#performance\n",
    "baseline_result = ml_error('Average model', np.expm1(y_test), np.expm1(yhat_baseline) )\n",
    "baseline_result"
   ]
  },
  {
   "cell_type": "markdown",
   "metadata": {
    "heading_collapsed": "true",
    "tags": []
   },
   "source": [
    "### 7.2 Linear regression model"
   ]
  },
  {
   "cell_type": "code",
   "execution_count": null,
   "metadata": {
    "execution": {
     "iopub.status.busy": "2021-03-28T16:41:22.490288Z",
     "iopub.status.idle": "2021-03-28T16:41:22.490734Z",
     "shell.execute_reply": "2021-03-28T16:41:22.490517Z"
    },
    "tags": []
   },
   "outputs": [],
   "source": [
    "# model\n",
    "lr = LinearRegression().fit( x_train, y_train )\n",
    "\n",
    "# prediction\n",
    "yhat_lr = lr.predict( x_test )\n",
    "\n",
    "# performance\n",
    "lr_result = ml_error( 'Linear Regression', np.expm1( y_test ), np.expm1( yhat_lr ) )\n",
    "lr_result"
   ]
  },
  {
   "cell_type": "code",
   "execution_count": null,
   "metadata": {},
   "outputs": [],
   "source": []
  },
  {
   "cell_type": "markdown",
   "metadata": {
    "execution": {
     "iopub.execute_input": "2021-02-20T16:10:16.716355Z",
     "iopub.status.busy": "2021-02-20T16:10:16.716060Z",
     "iopub.status.idle": "2021-02-20T16:10:16.719552Z",
     "shell.execute_reply": "2021-02-20T16:10:16.718689Z",
     "shell.execute_reply.started": "2021-02-20T16:10:16.716326Z"
    },
    "heading_collapsed": "true",
    "tags": []
   },
   "source": [
    "### 7.3 Linear regression regularized model"
   ]
  },
  {
   "cell_type": "code",
   "execution_count": null,
   "metadata": {
    "execution": {
     "iopub.status.busy": "2021-03-28T16:41:22.491929Z",
     "iopub.status.idle": "2021-03-28T16:41:22.492397Z",
     "shell.execute_reply": "2021-03-28T16:41:22.492175Z"
    },
    "tags": []
   },
   "outputs": [],
   "source": [
    "# model\n",
    "lrr = Lasso(alpha=0.01).fit( x_train, y_train )\n",
    "\n",
    "# prediction\n",
    "yhat_lrr = lrr.predict( x_test )\n",
    "\n",
    "# performance\n",
    "lrr_result = ml_error( 'Linear Regression Regularized', np.expm1( y_test ), np.expm1( yhat_lrr ) )\n",
    "lrr_result"
   ]
  },
  {
   "cell_type": "markdown",
   "metadata": {
    "heading_collapsed": "true",
    "tags": []
   },
   "source": [
    "### 7.4 Random Forest Regressor"
   ]
  },
  {
   "cell_type": "code",
   "execution_count": null,
   "metadata": {
    "execution": {
     "iopub.status.busy": "2021-03-28T16:41:22.493389Z",
     "iopub.status.idle": "2021-03-28T16:41:22.493850Z",
     "shell.execute_reply": "2021-03-28T16:41:22.493615Z"
    },
    "tags": []
   },
   "outputs": [],
   "source": [
    "# model\n",
    "rf = RandomForestRegressor(n_estimators= 100, n_jobs=-1, random_state=42).fit( x_train, y_train )\n",
    "\n",
    "# prediction\n",
    "yhat_rf = rf.predict( x_test )\n",
    "\n",
    "# performance\n",
    "rf_result = ml_error( 'Random Forest Regressor', np.expm1( y_test ), np.expm1( yhat_rf ) )\n",
    "rf_result"
   ]
  },
  {
   "cell_type": "markdown",
   "metadata": {
    "heading_collapsed": "true",
    "tags": []
   },
   "source": [
    "### 7.5 XGBooster Regressor"
   ]
  },
  {
   "cell_type": "code",
   "execution_count": null,
   "metadata": {
    "execution": {
     "iopub.status.busy": "2021-03-28T16:41:22.495059Z",
     "iopub.status.idle": "2021-03-28T16:41:22.495497Z",
     "shell.execute_reply": "2021-03-28T16:41:22.495283Z"
    },
    "tags": []
   },
   "outputs": [],
   "source": [
    "# model\n",
    "model_xgb = xgb.XGBRegressor( objective='reg:squarederror',\n",
    "                              n_estimators= 100,\n",
    "                              eta=0.01,\n",
    "                              max_depth=10,\n",
    "                              subsample=0.7,\n",
    "                              colsample_bytree=0.9).fit( x_train, y_train )\n",
    "\n",
    "# prediction\n",
    "yhat_xgb = model_xgb.predict( x_test )\n",
    "\n",
    "# performance\n",
    "xgb_result = ml_error( 'XGBooster Regressor', np.expm1( y_test ), np.expm1( yhat_xgb ) )\n",
    "xgb_result"
   ]
  },
  {
   "cell_type": "markdown",
   "metadata": {
    "tags": []
   },
   "source": [
    "### 7.6 Linear regression model with cross validation"
   ]
  },
  {
   "cell_type": "code",
   "execution_count": null,
   "metadata": {
    "execution": {
     "iopub.status.busy": "2021-03-28T16:41:22.496522Z",
     "iopub.status.idle": "2021-03-28T16:41:22.496956Z",
     "shell.execute_reply": "2021-03-28T16:41:22.496741Z"
    },
    "tags": []
   },
   "outputs": [],
   "source": [
    "lr_result_cv = cross_validation( x_training, 5, 'Linear Regression', lr, verbose=False )\n",
    "lr_result_cv"
   ]
  },
  {
   "cell_type": "markdown",
   "metadata": {
    "heading_collapsed": "true",
    "tags": []
   },
   "source": [
    "### 7.7 Linear regression regularized model with cross validation "
   ]
  },
  {
   "cell_type": "code",
   "execution_count": null,
   "metadata": {
    "execution": {
     "iopub.status.busy": "2021-03-28T16:41:22.498015Z",
     "iopub.status.idle": "2021-03-28T16:41:22.498451Z",
     "shell.execute_reply": "2021-03-28T16:41:22.498235Z"
    },
    "tags": []
   },
   "outputs": [],
   "source": [
    "lrr_result_cv = cross_validation( x_training, 5, 'Linear Regression Regularized', lrr, verbose=False )\n",
    "lr_result_cv"
   ]
  },
  {
   "cell_type": "markdown",
   "metadata": {
    "tags": []
   },
   "source": [
    "### 7.8 Random forest regressor with cross validation "
   ]
  },
  {
   "cell_type": "code",
   "execution_count": null,
   "metadata": {
    "execution": {
     "iopub.status.busy": "2021-03-28T16:41:22.499422Z",
     "iopub.status.idle": "2021-03-28T16:41:22.499958Z",
     "shell.execute_reply": "2021-03-28T16:41:22.499725Z"
    }
   },
   "outputs": [],
   "source": [
    "rf_result_cv = cross_validation( x_training, 5, 'Random Forest Regressor', rf, verbose= False )\n",
    "rf_result_cv"
   ]
  },
  {
   "cell_type": "markdown",
   "metadata": {
    "tags": []
   },
   "source": [
    "### 7.9 XGBooster regressor with cross validation "
   ]
  },
  {
   "cell_type": "code",
   "execution_count": null,
   "metadata": {
    "execution": {
     "iopub.status.busy": "2021-03-28T16:41:22.500865Z",
     "iopub.status.idle": "2021-03-28T16:41:22.501295Z",
     "shell.execute_reply": "2021-03-28T16:41:22.501082Z"
    }
   },
   "outputs": [],
   "source": [
    "xgb_result_cv = cross_validation( x_training, 5, 'XGBoost Regressor', model_xgb, verbose= False )\n",
    "xgb_result_cv"
   ]
  },
  {
   "cell_type": "markdown",
   "metadata": {
    "heading_collapsed": "true",
    "tags": []
   },
   "source": [
    "### 7.10 Comparation between model's"
   ]
  },
  {
   "cell_type": "markdown",
   "metadata": {},
   "source": [
    "#### 7.10.1 Single performance"
   ]
  },
  {
   "cell_type": "code",
   "execution_count": null,
   "metadata": {
    "execution": {
     "iopub.status.busy": "2021-03-28T16:41:22.502226Z",
     "iopub.status.idle": "2021-03-28T16:41:22.502651Z",
     "shell.execute_reply": "2021-03-28T16:41:22.502439Z"
    },
    "tags": []
   },
   "outputs": [],
   "source": [
    "modelling_result = pd.concat( [baseline_result, lr_result, lrr_result, rf_result, xgb_result] )\n",
    "modelling_result.sort_values( 'RMSE' )"
   ]
  },
  {
   "cell_type": "markdown",
   "metadata": {},
   "source": [
    "#### 7.10.2 Real performance - Cross validation"
   ]
  },
  {
   "cell_type": "code",
   "execution_count": null,
   "metadata": {
    "execution": {
     "iopub.status.busy": "2021-03-28T16:41:22.503732Z",
     "iopub.status.idle": "2021-03-28T16:41:22.504243Z",
     "shell.execute_reply": "2021-03-28T16:41:22.504021Z"
    },
    "tags": []
   },
   "outputs": [],
   "source": [
    "modelling_result_cv = pd.concat( [lr_result_cv, lrr_result_cv, rf_result_cv, xgb_result_cv],ignore_index=True )\n",
    "modelling_result_cv"
   ]
  },
  {
   "cell_type": "markdown",
   "metadata": {
    "tags": []
   },
   "source": [
    "# 8.0 HYPERPARAMETER FINE TUNING"
   ]
  },
  {
   "cell_type": "markdown",
   "metadata": {
    "heading_collapsed": "true",
    "tags": []
   },
   "source": [
    "### 8.1 Random search"
   ]
  },
  {
   "cell_type": "code",
   "execution_count": null,
   "metadata": {
    "execution": {
     "iopub.status.busy": "2021-03-28T16:41:22.505253Z",
     "iopub.status.idle": "2021-03-28T16:41:22.505681Z",
     "shell.execute_reply": "2021-03-28T16:41:22.505469Z"
    },
    "tags": []
   },
   "outputs": [],
   "source": [
    "param = {'n_estimators': [1500, 1700, 2500, 3000, 3500],\n",
    "        'eta': [0.01, 0.03],\n",
    "        'max_depth': [3, 5, 7],\n",
    "        'subsample': [0.1, 0.5, 0.7],\n",
    "        'colsample_bytree': [0.3, 0.5, 0.9],\n",
    "        'min_child_weight': [3, 8,15]\n",
    "        }\n",
    "\n",
    "\n",
    "max_eval = 5"
   ]
  },
  {
   "cell_type": "code",
   "execution_count": null,
   "metadata": {
    "execution": {
     "iopub.status.busy": "2021-03-28T16:41:22.506672Z",
     "iopub.status.idle": "2021-03-28T16:41:22.507104Z",
     "shell.execute_reply": "2021-03-28T16:41:22.506893Z"
    },
    "tags": []
   },
   "outputs": [],
   "source": [
    "final_result = pd.DataFrame()\n",
    "\n",
    "for i in range( max_eval ):\n",
    "    # choose values for parameters randomly\n",
    "    hp = { k: random.sample( v, 1 )[0] for k, v in param.items() }\n",
    "    print( hp )\n",
    "    \n",
    "    # model\n",
    "    model_xgb = xgb.XGBRegressor( objective='reg:squarederror',\n",
    "                                  n_estimators=hp['n_estimators'], \n",
    "                                  eta=hp['eta'], \n",
    "                                  max_depth=hp['max_depth'], \n",
    "                                  subsample=hp['subsample'],\n",
    "                                  colsample_bytee=hp['colsample_bytree'],\n",
    "                                  min_child_weight=hp['min_child_weight'] )\n",
    "\n",
    "    # performance\n",
    "    result = cross_validation( x_training, 5, 'XGBoost Regressor', model_xgb, verbose=True )\n",
    "    final_result = pd.concat( [final_result, result] )\n",
    "        \n",
    "final_result"
   ]
  },
  {
   "cell_type": "markdown",
   "metadata": {
    "tags": []
   },
   "source": [
    "### 8.2 Final model"
   ]
  },
  {
   "cell_type": "code",
   "execution_count": null,
   "metadata": {
    "execution": {
     "iopub.status.busy": "2021-03-28T16:41:22.508365Z",
     "iopub.status.idle": "2021-03-28T16:41:22.508807Z",
     "shell.execute_reply": "2021-03-28T16:41:22.508588Z"
    }
   },
   "outputs": [],
   "source": [
    "param_tuned = {\n",
    "    'n_estimators': 3000,\n",
    "    'eta': 0.01,\n",
    "    'max_depth': 7,\n",
    "    'subsample': 0.5,\n",
    "    'colsample_bytree': 0.3,\n",
    "    'min_child_weight': 3 \n",
    "        }"
   ]
  },
  {
   "cell_type": "code",
   "execution_count": null,
   "metadata": {
    "execution": {
     "iopub.status.busy": "2021-03-28T16:41:22.509818Z",
     "iopub.status.idle": "2021-03-28T16:41:22.510257Z",
     "shell.execute_reply": "2021-03-28T16:41:22.510041Z"
    }
   },
   "outputs": [],
   "source": [
    "# model\n",
    "model_xgb_tuned = xgb.XGBRegressor( objective='reg:squarederror',\n",
    "                                    n_estimators=param_tuned['n_estimators'], \n",
    "                                    eta=param_tuned['eta'], \n",
    "                                    max_depth=param_tuned['max_depth'], \n",
    "                                    subsample=param_tuned['subsample'],\n",
    "                                    colsample_bytee=param_tuned['colsample_bytree'],\n",
    "                                    min_child_weight=param_tuned['min_child_weight'] ).fit( x_train, y_train )\n",
    "\n",
    "# prediction\n",
    "yhat_xgb_tuned = model_xgb_tuned.predict( x_test )\n",
    "\n",
    "# performance\n",
    "xgb_result_tuned = ml_error( 'XGBoost Regressor', np.expm1( y_test ), np.expm1( yhat_xgb_tuned ) )\n",
    "xgb_result_tuned"
   ]
  },
  {
   "cell_type": "code",
   "execution_count": null,
   "metadata": {
    "execution": {
     "iopub.status.busy": "2021-03-28T16:41:22.511326Z",
     "iopub.status.idle": "2021-03-28T16:41:22.511757Z",
     "shell.execute_reply": "2021-03-28T16:41:22.511544Z"
    },
    "tags": []
   },
   "outputs": [],
   "source": [
    "mpe = mean_percentage_error(np.expm1(y_test), np.expm1(yhat_xgb_tuned))\n",
    "mpe"
   ]
  },
  {
   "cell_type": "markdown",
   "metadata": {},
   "source": [
    "# 9.0 Error interpretation"
   ]
  },
  {
   "cell_type": "code",
   "execution_count": null,
   "metadata": {
    "execution": {
     "iopub.status.busy": "2021-03-28T16:41:22.512824Z",
     "iopub.status.idle": "2021-03-28T16:41:22.513287Z",
     "shell.execute_reply": "2021-03-28T16:41:22.513067Z"
    },
    "tags": []
   },
   "outputs": [],
   "source": [
    "df9 = X_test[cols_selected_full]\n",
    "\n",
    "# rescale\n",
    "df9['sales'] = np.expm1(df9['sales'])\n",
    "df9['predictions'] = np.expm1(yhat_xgb_tuned)"
   ]
  },
  {
   "cell_type": "markdown",
   "metadata": {},
   "source": [
    "## 9.1 Business performance"
   ]
  },
  {
   "cell_type": "code",
   "execution_count": null,
   "metadata": {
    "execution": {
     "iopub.status.busy": "2021-03-28T16:41:22.514218Z",
     "iopub.status.idle": "2021-03-28T16:41:22.514649Z",
     "shell.execute_reply": "2021-03-28T16:41:22.514436Z"
    }
   },
   "outputs": [],
   "source": [
    "# sum of predictions\n",
    "df91 = df9[['store', 'predictions']].groupby( 'store' ).sum().reset_index()\n",
    "\n",
    "# MAE and MAPE\n",
    "df9_aux1 = df9[['store', 'sales', 'predictions']].groupby( 'store' ).apply( lambda x: mean_absolute_error( x['sales'], x['predictions'] ) ).reset_index().rename( columns={0:'MAE'})\n",
    "df9_aux2 = df9[['store', 'sales', 'predictions']].groupby( 'store' ).apply( lambda x: mean_absolute_percentage_error( x['sales'], x['predictions'] ) ).reset_index().rename( columns={0:'MAPE'})\n",
    "\n",
    "# Merge\n",
    "df9_aux3 = pd.merge( df9_aux1, df9_aux2, how='inner', on='store' )\n",
    "df92 = pd.merge( df91, df9_aux3, how='inner', on='store' )\n",
    "\n",
    "# Scenarios\n",
    "df92['worst_scenario'] = df92['predictions'] - df92['MAE']\n",
    "df92['best_scenario'] = df92['predictions'] + df92['MAE']\n",
    "\n",
    "# order columns\n",
    "df92 = df92[['store', 'predictions', 'worst_scenario', 'best_scenario', 'MAE', 'MAPE']]"
   ]
  },
  {
   "cell_type": "code",
   "execution_count": null,
   "metadata": {
    "execution": {
     "iopub.status.busy": "2021-03-28T16:41:22.515593Z",
     "iopub.status.idle": "2021-03-28T16:41:22.516077Z",
     "shell.execute_reply": "2021-03-28T16:41:22.515820Z"
    }
   },
   "outputs": [],
   "source": [
    "df92.sample(4)"
   ]
  },
  {
   "cell_type": "code",
   "execution_count": null,
   "metadata": {
    "execution": {
     "iopub.status.busy": "2021-03-28T16:41:22.517204Z",
     "iopub.status.idle": "2021-03-28T16:41:22.518014Z",
     "shell.execute_reply": "2021-03-28T16:41:22.517596Z"
    }
   },
   "outputs": [],
   "source": [
    "df92.sort_values('MAPE', ascending=False).head()"
   ]
  },
  {
   "cell_type": "code",
   "execution_count": null,
   "metadata": {
    "execution": {
     "iopub.status.busy": "2021-03-28T16:41:22.519795Z",
     "iopub.status.idle": "2021-03-28T16:41:22.520688Z",
     "shell.execute_reply": "2021-03-28T16:41:22.520274Z"
    }
   },
   "outputs": [],
   "source": [
    "sns.scatterplot( x='store', y='MAPE', data=df92 )"
   ]
  },
  {
   "cell_type": "markdown",
   "metadata": {},
   "source": [
    "## 9.2 Total performance"
   ]
  },
  {
   "cell_type": "code",
   "execution_count": null,
   "metadata": {
    "execution": {
     "iopub.status.busy": "2021-03-28T16:41:22.522168Z",
     "iopub.status.idle": "2021-03-28T16:41:22.523114Z",
     "shell.execute_reply": "2021-03-28T16:41:22.522670Z"
    }
   },
   "outputs": [],
   "source": [
    "df93 = df92[['predictions', 'worst_scenario', 'best_scenario']].apply( lambda x: np.sum( x ), axis=0 ).reset_index().rename( columns={'index': 'Scenario', 0:'Values'} )\n",
    "df93['Values'] = df93['Values'].map( 'R${:,.2f}'.format )\n",
    "df93"
   ]
  },
  {
   "cell_type": "code",
   "execution_count": null,
   "metadata": {},
   "outputs": [],
   "source": []
  },
  {
   "cell_type": "markdown",
   "metadata": {},
   "source": [
    "## 9.3 Machine learning performance"
   ]
  },
  {
   "cell_type": "code",
   "execution_count": null,
   "metadata": {},
   "outputs": [],
   "source": []
  },
  {
   "cell_type": "code",
   "execution_count": null,
   "metadata": {
    "execution": {
     "iopub.status.busy": "2021-03-28T16:41:22.524797Z",
     "iopub.status.idle": "2021-03-28T16:41:22.525686Z",
     "shell.execute_reply": "2021-03-28T16:41:22.525258Z"
    }
   },
   "outputs": [],
   "source": [
    "df9['error'] = df9['sales'] - df9['predictions']\n",
    "df9['error_rate'] = df9['predictions'] / df9['sales']\n",
    "\n",
    "\n",
    "plt.subplot( 2, 2, 1 )\n",
    "sns.lineplot( x='date', y='sales', data=df9, label='SALES' )\n",
    "sns.lineplot( x='date', y='predictions', data=df9, label='PREDICTIONS' )\n",
    "\n",
    "plt.subplot( 2, 2, 2 )\n",
    "sns.lineplot( x='date', y='error_rate', data=df9 )\n",
    "plt.axhline( 1, linestyle='--')\n",
    "\n",
    "plt.subplot( 2, 2, 3 )\n",
    "sns.distplot( df9['error'] )\n",
    "\n",
    "plt.subplot( 2, 2, 4 )\n",
    "sns.scatterplot( df9['predictions'], df9['error'] )"
   ]
  },
  {
   "cell_type": "code",
   "execution_count": null,
   "metadata": {},
   "outputs": [],
   "source": []
  },
  {
   "cell_type": "code",
   "execution_count": null,
   "metadata": {},
   "outputs": [],
   "source": []
  },
  {
   "cell_type": "code",
   "execution_count": null,
   "metadata": {
    "execution": {
     "iopub.status.busy": "2021-03-28T16:41:22.527205Z",
     "iopub.status.idle": "2021-03-28T16:41:22.528102Z",
     "shell.execute_reply": "2021-03-28T16:41:22.527671Z"
    },
    "tags": []
   },
   "outputs": [],
   "source": [
    "# Save Trained Model\n",
    "pickle.dump( model_xgb_tuned, open( '/home/gutto/Projects/rossmann_store_sales/model/model_rossmann.pkl', 'wb' ) )"
   ]
  },
  {
   "cell_type": "code",
   "execution_count": null,
   "metadata": {},
   "outputs": [],
   "source": []
  },
  {
   "cell_type": "code",
   "execution_count": null,
   "metadata": {},
   "outputs": [],
   "source": []
  },
  {
   "cell_type": "code",
   "execution_count": null,
   "metadata": {},
   "outputs": [],
   "source": []
  },
  {
   "cell_type": "code",
   "execution_count": null,
   "metadata": {},
   "outputs": [],
   "source": []
  },
  {
   "cell_type": "code",
   "execution_count": null,
   "metadata": {},
   "outputs": [],
   "source": []
  }
 ],
 "metadata": {
  "hide_input": true,
  "kernelspec": {
   "display_name": "Python 3",
   "language": "python",
   "name": "python3"
  },
  "language_info": {
   "codemirror_mode": {
    "name": "ipython",
    "version": 3
   },
   "file_extension": ".py",
   "mimetype": "text/x-python",
   "name": "python",
   "nbconvert_exporter": "python",
   "pygments_lexer": "ipython3",
   "version": "3.8.0"
  },
  "notify_time": "5",
  "toc": {
   "base_numbering": 1,
   "nav_menu": {},
   "number_sections": true,
   "sideBar": true,
   "skip_h1_title": false,
   "title_cell": "Table of Contents",
   "title_sidebar": "Contents",
   "toc_cell": false,
   "toc_position": {},
   "toc_section_display": true,
   "toc_window_display": false
  },
  "varInspector": {
   "cols": {
    "lenName": 16,
    "lenType": 16,
    "lenVar": 40
   },
   "kernels_config": {
    "python": {
     "delete_cmd_postfix": "",
     "delete_cmd_prefix": "del ",
     "library": "var_list.py",
     "varRefreshCmd": "print(var_dic_list())"
    },
    "r": {
     "delete_cmd_postfix": ") ",
     "delete_cmd_prefix": "rm(",
     "library": "var_list.r",
     "varRefreshCmd": "cat(var_dic_list()) "
    }
   },
   "types_to_exclude": [
    "module",
    "function",
    "builtin_function_or_method",
    "instance",
    "_Feature"
   ],
   "window_display": false
  }
 },
 "nbformat": 4,
 "nbformat_minor": 4
}
